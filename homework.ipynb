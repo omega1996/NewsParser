{
 "cells": [
  {
   "cell_type": "markdown",
   "metadata": {},
   "source": [
    "# задание 1\n",
    "##### Напишите функцию конвертации текста, представленном в шестнацеричном виде, в base64."
   ]
  },
  {
   "cell_type": "code",
   "execution_count": 11,
   "metadata": {},
   "outputs": [],
   "source": [
    "import string\n",
    "alphabet_chars = string.ascii_uppercase + string.ascii_lowercase + string.digits + '+/'\n",
    "alphabet = {}\n",
    "for i in range(64):\n",
    "    alphabet[bin(i)[2:].zfill(6)] = alphabet_chars[i]"
   ]
  },
  {
   "cell_type": "code",
   "execution_count": 12,
   "metadata": {},
   "outputs": [],
   "source": [
    "def split_two(beat):\n",
    "    return [beat[g:g+2] for g in range(0, len(beat),2)]\n",
    "\n",
    "def hex_to_bin(beat):\n",
    "    return ''.join([format(int(key,16), '08b') for key in beat])\n",
    "\n",
    "def bin_six(beat):\n",
    "    return [k for k in [beat[g:g+6] for g in range(0, len(beat),6)]]\n",
    "\n",
    "def xor(first,second):\n",
    "    answer = []\n",
    "    for i in range(len(first)):\n",
    "        answer.append(int(first[i],2)^int(second[i],2))\n",
    "    return answer"
   ]
  },
  {
   "cell_type": "code",
   "execution_count": 13,
   "metadata": {},
   "outputs": [],
   "source": [
    "def tobase64(string):\n",
    "    string = split_two(string)\n",
    "    string = hex_to_bin(string)\n",
    "    string = bin_six(string)\n",
    "    #return string\n",
    "    return ''.join([(alphabet[g] if len(g)==6 else '=') for g in string])"
   ]
  },
  {
   "cell_type": "code",
   "execution_count": 14,
   "metadata": {},
   "outputs": [
    {
     "data": {
      "text/plain": [
       "'SSdtIHN0dWR5aW5nIENyeXB0b2dyYXBoeSBsaWtlIENsYXVkZSBFbHdvb2QgU2hhbm5vbi='"
      ]
     },
     "execution_count": 14,
     "metadata": {},
     "output_type": "execute_result"
    }
   ],
   "source": [
    "tobase64('49276d207374756479696e672043727970746f677261706879206c696b6520436c6175646520456c776f6f64205368616e6e6f6e21')"
   ]
  },
  {
   "cell_type": "code",
   "execution_count": 15,
   "metadata": {},
   "outputs": [
    {
     "data": {
      "text/plain": [
       "\"I'm studying Cryptography like Claude Elwood Shannon!\""
      ]
     },
     "execution_count": 15,
     "metadata": {},
     "output_type": "execute_result"
    }
   ],
   "source": [
    "bytearray.fromhex(\"49276d207374756479696e672043727970746f677261706879206c696b6520436c6175646520456c776f6f64205368616e6e6f6e21\").decode()"
   ]
  },
  {
   "cell_type": "markdown",
   "metadata": {},
   "source": [
    "# задание 2\n",
    "##### Напишите функцию, которая принимает в качестве параметров два буфера одинаковой длины и производит операцию XOR над ними."
   ]
  },
  {
   "cell_type": "code",
   "execution_count": 16,
   "metadata": {},
   "outputs": [],
   "source": [
    "def xor_16(string_1, string_2):\n",
    "    string_1 = split_two(string_1)\n",
    "    string_1 = hex_to_bin(string_1)\n",
    "    string_1_list = [string_1[g:g+8] for g in range(0, len(string_1),8)]\n",
    "    string_2 = split_two(string_2)\n",
    "    string_2 = hex_to_bin(string_2)\n",
    "    string_2_list = [string_2[g:g+8] for g in range(0, len(string_2),8)]\n",
    "    return ''.join([hex(k)[2:] for k in xor(string_1_list,string_2_list)])"
   ]
  },
  {
   "cell_type": "code",
   "execution_count": 17,
   "metadata": {},
   "outputs": [
    {
     "data": {
      "text/plain": [
       "'192c352036755d6d7d2050776472264e6a7a21566f747666'"
      ]
     },
     "execution_count": 17,
     "metadata": {},
     "output_type": "execute_result"
    }
   ],
   "source": [
    "xor_16('506561636520416c6c204f7665722054686520576f726c64','4949544353551c0111001f010100061a021f010100061a02')"
   ]
  },
  {
   "cell_type": "markdown",
   "metadata": {},
   "source": [
    "# задание 3\n",
    "##### Дана строка закодированная в 16-виде. Данную строку получили путем операции XOR некоторого текста с одним символом. Расшифруйте это сообщени"
   ]
  },
  {
   "cell_type": "code",
   "execution_count": 18,
   "metadata": {},
   "outputs": [
    {
     "data": {
      "text/plain": [
       "'19367831362e3d2b2c353d362c783136783336372f343d3c3f3d7839342f39212b782839212b782c303d783a3d2b2c7831362c3d2a3d2b2c'"
      ]
     },
     "execution_count": 18,
     "metadata": {},
     "output_type": "execute_result"
    }
   ],
   "source": [
    "xor_16('19367831362e3d2b2c353d362c783136783336372f343d3c3f3d7839342f39212b782839212b782c303d783a3d2b2c7831362c3d2a3d2b2c','0000000000000000000000000000000000000000000000000000000000000000000000000000000000000000000000000000000000000000')"
   ]
  },
  {
   "cell_type": "code",
   "execution_count": null,
   "metadata": {},
   "outputs": [],
   "source": []
  }
 ],
 "metadata": {
  "kernelspec": {
   "display_name": "Python 3",
   "language": "python",
   "name": "python3"
  }
 },
 "nbformat": 4,
 "nbformat_minor": 2
}
