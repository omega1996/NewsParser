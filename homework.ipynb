{
 "cells": [
  {
   "cell_type": "markdown",
   "metadata": {},
   "source": [
    "# задание 1\n",
    "##### Напишите функцию конвертации текста, представленном в шестнацеричном виде, в base64."
   ]
  },
  {
   "cell_type": "code",
   "execution_count": 1,
   "metadata": {},
   "outputs": [],
   "source": [
    "import string\n",
    "import binascii\n",
    "import tqdm\n",
    "alphabet_chars = string.ascii_uppercase + string.ascii_lowercase + string.digits + '+/'\n",
    "alphabet = {}\n",
    "for i in range(64):\n",
    "    alphabet[bin(i)[2:].zfill(6)] = alphabet_chars[i]"
   ]
  },
  {
   "cell_type": "code",
   "execution_count": 2,
   "metadata": {},
   "outputs": [],
   "source": [
    "def split_two(beat):\n",
    "    return [beat[g:g+2] for g in range(0, len(beat),2)]\n",
    "\n",
    "def hex_to_bin(beat):\n",
    "    return ''.join([format(int(key,16), '08b') for key in beat])\n",
    "\n",
    "def bin_six(beat):\n",
    "    return [k for k in [beat[g:g+6] for g in range(0, len(beat),6)]]\n",
    "\n",
    "def xor(first,second, string=False):\n",
    "    answer = []\n",
    "    for i in range(len(first)):\n",
    "        answer.append(int(first[i],2)^int(second[i],2))\n",
    "    if string:\n",
    "        answer_str = []\n",
    "        for i in answer:\n",
    "            i = str(i)\n",
    "            answer_str.append(i)\n",
    "        answer = answer_str\n",
    "    return answer"
   ]
  },
  {
   "cell_type": "code",
   "execution_count": 3,
   "metadata": {},
   "outputs": [],
   "source": [
    "def tobase64(string):\n",
    "    string = split_two(string)\n",
    "    string = hex_to_bin(string)\n",
    "    string = bin_six(string)\n",
    "    number = 0\n",
    "    answer =[]\n",
    "    for g in string:\n",
    "        number += 1\n",
    "        if len(g)==6:\n",
    "            string_temp = alphabet[g] \n",
    "            answer.append(string_temp)\n",
    "        else:\n",
    "            while len(g) < 6:\n",
    "                g+='0'\n",
    "            string_temp = alphabet[g]\n",
    "            if number % 4 == 2:\n",
    "                string_temp+='=='\n",
    "                print(string_temp)\n",
    "            elif number % 4 == 3:\n",
    "                string_temp+='='\n",
    "            answer.extend(string_temp)\n",
    "    string = ''.join([(alphabet[g] if len(g)==6 else '=' if len(g) >3  else '==') for g in string])\n",
    "    return ''.join(answer)"
   ]
  },
  {
   "cell_type": "code",
   "execution_count": 4,
   "metadata": {},
   "outputs": [],
   "source": [
    "example = '49276d207374756479696e672043727970746f677261706879206c696b6520436c6175646520456c776f6f64205368616e6e6f6e21'"
   ]
  },
  {
   "cell_type": "code",
   "execution_count": 5,
   "metadata": {},
   "outputs": [
    {
     "data": {
      "text/plain": [
       "'SSdtIHN0dWR5aW5nIENyeXB0b2dyYXBoeSBsaWtlIENsYXVkZSBFbHdvb2QgU2hhbm5vbiE='"
      ]
     },
     "execution_count": 5,
     "metadata": {},
     "output_type": "execute_result"
    }
   ],
   "source": [
    "tobase64(example)"
   ]
  },
  {
   "cell_type": "code",
   "execution_count": 6,
   "metadata": {},
   "outputs": [
    {
     "data": {
      "text/plain": [
       "\"I'm studying Cryptography like Claude Elwood Shannon!\""
      ]
     },
     "execution_count": 6,
     "metadata": {},
     "output_type": "execute_result"
    }
   ],
   "source": [
    "bytearray.fromhex(example).decode()"
   ]
  },
  {
   "cell_type": "markdown",
   "metadata": {},
   "source": [
    "# задание 2\n",
    "##### Напишите функцию, которая принимает в качестве параметров два буфера одинаковой длины и производит операцию XOR над ними."
   ]
  },
  {
   "cell_type": "code",
   "execution_count": 7,
   "metadata": {},
   "outputs": [],
   "source": [
    "def xor_16(string_1, string_2):\n",
    "    string_1 = split_two(string_1)\n",
    "    string_1 = hex_to_bin(string_1)\n",
    "    string_1_list = [string_1[g:g+8] for g in range(0, len(string_1),8)]\n",
    "    string_2 = split_two(string_2)\n",
    "    string_2 = hex_to_bin(string_2)\n",
    "    string_2_list = [string_2[g:g+8] for g in range(0, len(string_2),8)]\n",
    "    return ''.join([hex(k)[2:] for k in xor(string_1_list,string_2_list)])"
   ]
  },
  {
   "cell_type": "code",
   "execution_count": 8,
   "metadata": {},
   "outputs": [
    {
     "data": {
      "text/plain": [
       "'192c352036755d6d7d2050776472264e6a7a21566f747666'"
      ]
     },
     "execution_count": 8,
     "metadata": {},
     "output_type": "execute_result"
    }
   ],
   "source": [
    "xor_16('506561636520416c6c204f7665722054686520576f726c64','4949544353551c0111001f010100061a021f010100061a02')"
   ]
  },
  {
   "cell_type": "markdown",
   "metadata": {},
   "source": [
    "# задание 3\n",
    "##### Дана строка закодированная в 16-виде. Данную строку получили путем операции XOR некоторого текста с одним символом. Расшифруйте это сообщени"
   ]
  },
  {
   "cell_type": "code",
   "execution_count": 9,
   "metadata": {},
   "outputs": [],
   "source": [
    "def most_frequent(List): \n",
    "    return sorted(List,key=List.count,reverse=True)\n",
    "    "
   ]
  },
  {
   "cell_type": "code",
   "execution_count": 10,
   "metadata": {},
   "outputs": [
    {
     "data": {
      "text/plain": [
       "'19367831362e3d2b2c353d362c783136783336372f343d3c3f3d7839342f39212b782839212b782c303d783a3d2b2c7831362c3d2a3d2b2c'"
      ]
     },
     "execution_count": 10,
     "metadata": {},
     "output_type": "execute_result"
    }
   ],
   "source": [
    "xor_16('19367831362e3d2b2c353d362c783136783336372f343d3c3f3d7839342f39212b782839212b782c303d783a3d2b2c7831362c3d2a3d2b2c','0000000000000000000000000000000000000000000000000000000000000000000000000000000000000000000000000000000000000000')"
   ]
  },
  {
   "cell_type": "code",
   "execution_count": 11,
   "metadata": {},
   "outputs": [],
   "source": [
    "example = '19367831362e3d2b2c353d362c783136783336372f343d3c3f3d7839342f39212b782839212b782c303d783a3d2b2c7831362c3d2a3d2b2c'"
   ]
  },
  {
   "cell_type": "code",
   "execution_count": 12,
   "metadata": {},
   "outputs": [],
   "source": [
    "def encode_hex(example, numb =0):\n",
    "    two_str = split_two(example)\n",
    "    hexes = hex_to_bin(two_str)\n",
    "    m_f = most_frequent(two_str)[numb]\n",
    "    hexes = hex_to_bin(two_str)\n",
    "    hex_space = hex_to_bin([m_f])\n",
    "    hex_space = ''.join(xor(hex_space, '00100000', True))\n",
    "    hex_lenspace = hex_space*len(two_str)\n",
    "    key = ''.join(xor(hexes,hex_lenspace, True))\n",
    "    toascii = binascii.unhexlify('%x' % int(key, 2))\n",
    "    # print( binascii.unhexlify('%x' % int(hex_space, 2)))\n",
    "    return str(toascii).replace('\\\\x00',' ')[2:]"
   ]
  },
  {
   "cell_type": "code",
   "execution_count": 13,
   "metadata": {},
   "outputs": [
    {
     "data": {
      "text/plain": [
       "\"An investment in knowledge always pays the best interest'\""
      ]
     },
     "execution_count": 13,
     "metadata": {},
     "output_type": "execute_result"
    }
   ],
   "source": [
    "encode_hex(example, 0)"
   ]
  },
  {
   "cell_type": "code",
   "execution_count": 14,
   "metadata": {},
   "outputs": [],
   "source": [
    "ascii_string = bin(int.from_bytes('hello'.encode(), 'big'))"
   ]
  },
  {
   "cell_type": "code",
   "execution_count": 15,
   "metadata": {},
   "outputs": [
    {
     "data": {
      "text/plain": [
       "'110100001100101011011000110110001101111'"
      ]
     },
     "execution_count": 15,
     "metadata": {},
     "output_type": "execute_result"
    }
   ],
   "source": [
    "ascii_string[2:]"
   ]
  },
  {
   "cell_type": "code",
   "execution_count": 16,
   "metadata": {},
   "outputs": [
    {
     "data": {
      "text/plain": [
       "b'Shannon'"
      ]
     },
     "execution_count": 16,
     "metadata": {},
     "output_type": "execute_result"
    }
   ],
   "source": [
    "'Shannon'.encode()"
   ]
  },
  {
   "cell_type": "code",
   "execution_count": 17,
   "metadata": {},
   "outputs": [
    {
     "data": {
      "text/plain": [
       "23477190740832110"
      ]
     },
     "execution_count": 17,
     "metadata": {},
     "output_type": "execute_result"
    }
   ],
   "source": [
    "int.from_bytes('Shannon'.encode(), 'big')"
   ]
  },
  {
   "cell_type": "code",
   "execution_count": 18,
   "metadata": {},
   "outputs": [
    {
     "data": {
      "text/plain": [
       "'0b1010011011010000110000101101110011011100110111101101110'"
      ]
     },
     "execution_count": 18,
     "metadata": {},
     "output_type": "execute_result"
    }
   ],
   "source": [
    "bin(int.from_bytes('Shannon'.encode(), 'big'))"
   ]
  },
  {
   "cell_type": "code",
   "execution_count": 19,
   "metadata": {},
   "outputs": [
    {
     "data": {
      "text/plain": [
       "'1010011011010000110000101101110011011100110111101101110'"
      ]
     },
     "execution_count": 19,
     "metadata": {},
     "output_type": "execute_result"
    }
   ],
   "source": [
    "format(int(bin(int.from_bytes('Shannon'.encode(), 'big')),2), '08b')"
   ]
  },
  {
   "cell_type": "markdown",
   "metadata": {},
   "source": [
    "# Задание 4.\n",
    "##### В качестве входных данных дается файл со строками в hex. Одна из этих строк зашифрована с помощью XOR на одно-символьном ключе. Найдите и расшифруйте эту строку."
   ]
  },
  {
   "cell_type": "code",
   "execution_count": 20,
   "metadata": {},
   "outputs": [],
   "source": [
    "def encode_file(filename):\n",
    "    with open(filename, 'r') as file:\n",
    "        for example in file:\n",
    "            try:\n",
    "                line = encode_hex(example.replace('\\n',''),0)\n",
    "                if '\\\\' not in line:\n",
    "                    answer = line\n",
    "                    print(answer)\n",
    "            except:\n",
    "                pass"
   ]
  },
  {
   "cell_type": "code",
   "execution_count": 21,
   "metadata": {},
   "outputs": [
    {
     "name": "stdout",
     "output_type": "stream",
     "text": [
      "Kakim umnym ja sebja chuvstvuu'\n"
     ]
    }
   ],
   "source": [
    "encode_file('task14.input')"
   ]
  },
  {
   "cell_type": "markdown",
   "metadata": {},
   "source": [
    "# Задание 5.\n",
    "##### Реализуйте шифрование XOR'ом с повторяющимся ключом.\n",
    "\n",
    "Ключ: Shannon\n",
    "\n",
    "Результат: 00000000000000730b0e001a1d07311d150b0a4f1a3c4815060b4f083a0d0d0a4e0008730b13171e1b0f3d090d171d061d730e0e1c4e010f27010e000f034e370d070b001c0b730c141c070109733f0e1c020b4e0409134e272642736208000d031b37010f094e07072048030f1d060d731f0e1c054f013d4802010a0a0c210d000507010973090f0a4e1c0b301d130b4e1b0b3f0d020103021b3d01020f1a06013d1b4f"
   ]
  },
  {
   "cell_type": "code",
   "execution_count": 22,
   "metadata": {},
   "outputs": [],
   "source": [
    "def char_bin(string):\n",
    "    return format(int(bin(int.from_bytes(string.encode(), 'big')),2), '08b')"
   ]
  },
  {
   "cell_type": "code",
   "execution_count": 23,
   "metadata": {},
   "outputs": [],
   "source": [
    "def decode_file(filename, key, code = 'file'):\n",
    "    bin_key = ''.join([char_bin(keyd) for keyd in key])\n",
    "    if code == 'file':\n",
    "        with open(filename, 'r') as file:\n",
    "            code = file.read().strip()\n",
    "    else:\n",
    "        code = filename\n",
    "    bin_code =''.join([char_bin(keyd) for keyd in code])\n",
    "    while len(bin_key)<len(bin_code):\n",
    "        bin_key = bin_key*2\n",
    "    while len(bin_key)>len(bin_code):\n",
    "        bin_key =bin_key[:len(bin_key)-1]\n",
    "    bin_answer = ''.join(xor(bin_key[:len(bin_key)], bin_code, True))\n",
    "    return ''.join(hex(int(binary, 2))[2:] for binary in [bin_answer[g:g+4] for g in range(0, len(bin_answer),4)])"
   ]
  },
  {
   "cell_type": "code",
   "execution_count": 24,
   "metadata": {},
   "outputs": [
    {
     "data": {
      "text/plain": [
       "'00000000000000730b0e001a1d07311d150b0a4f1a3c4815060b4f083a0d0d0a4e0008730b13171e1b0f3d090d171d061d730e0e1c4e010f27010e000f034e370d070b001c0b730c141c070109733f0e1c020b4e0409134e272642736208000d031b37010f094e07072048030f1d060d731f0e1c054f013d4802010a0a0c210d000507010973090f0a4e1c0b301d130b4e1b0b3f0d020103021b3d01020f1a06013d1b4f'"
      ]
     },
     "execution_count": 24,
     "metadata": {},
     "output_type": "execute_result"
    }
   ],
   "source": [
    "decode_file('task15.input', 'Shannon')"
   ]
  },
  {
   "cell_type": "markdown",
   "metadata": {},
   "source": [
    "# Задание 6.\n",
    "##### Задание: Расшифруйте данные зашифрованные XOR'ом с повторяющимся ключом."
   ]
  },
  {
   "cell_type": "code",
   "execution_count": 25,
   "metadata": {},
   "outputs": [],
   "source": [
    "import base64"
   ]
  },
  {
   "cell_type": "code",
   "execution_count": 26,
   "metadata": {},
   "outputs": [],
   "source": [
    "with open('task16.input', 'r') as file:\n",
    "    input_file = file.read().strip()"
   ]
  },
  {
   "cell_type": "code",
   "execution_count": 27,
   "metadata": {},
   "outputs": [],
   "source": [
    "decoded_file = base64.decodebytes(input_file.encode()).decode()"
   ]
  },
  {
   "cell_type": "code",
   "execution_count": 42,
   "metadata": {},
   "outputs": [],
   "source": [
    "# Полученеи наиболее частного символа строки\n",
    "def get_often_ch(line):\n",
    "    ch_count = {}\n",
    "    for ch in line:\n",
    "        if not ch in ch_count: ch_count[ch]=0\n",
    "        ch_count[ch]+=1\n",
    "    ch_sort = sorted(ch_count, reverse=True, key=lambda x: ch_count[x])\n",
    "    return ch_sort[0], ch_count[ch_sort[0]]\n",
    "\n",
    "# Определение длинны ключа\n",
    "def get_len_key(text):\n",
    "    variants = {}\n",
    "    for i in range(1, int(len(text)/2)+1):\n",
    "        text_step = text[-i:]+text[:-i]\n",
    "        xor_step = xor_coding(text, text_step)\n",
    "        val = 100*get_often_ch(xor_step)[1]/len(text)\n",
    "        if val>5: print(f'Сдвиг: {i}, частота: {val}')\n",
    "            \n",
    "def xor_coding(line, key):\n",
    "    answer = \"\"\n",
    "    lenkey = len(key)\n",
    "    for i in range(0, len(line), lenkey):\n",
    "        substr = line[i:i+lenkey]\n",
    "        for l,k in zip(substr, key):\n",
    "            answer += chr(ord(l) ^ ord(k))\n",
    "    return answer\n"
   ]
  },
  {
   "cell_type": "code",
   "execution_count": 43,
   "metadata": {},
   "outputs": [
    {
     "name": "stdout",
     "output_type": "stream",
     "text": [
      "Сдвиг: 22, частота: 7.2636192861615525\n",
      "Сдвиг: 44, частота: 6.762680025046963\n",
      "Сдвиг: 66, частота: 6.512210394489668\n",
      "Сдвиг: 88, частота: 6.136505948653726\n",
      "Сдвиг: 110, частота: 6.88791484032561\n",
      "Сдвиг: 154, частота: 6.011271133375078\n",
      "Сдвиг: 176, частота: 5.760801502817784\n",
      "Сдвиг: 198, частота: 5.447714464621165\n",
      "Сдвиг: 220, частота: 6.011271133375078\n",
      "Сдвиг: 242, частота: 5.134627426424546\n",
      "Сдвиг: 264, частота: 5.572949279899812\n",
      "Сдвиг: 286, частота: 5.886036318096431\n",
      "Сдвиг: 330, частота: 5.19724483406387\n",
      "Сдвиг: 352, частота: 5.698184095178459\n",
      "Сдвиг: 374, частота: 6.3243581715716966\n",
      "Сдвиг: 396, частота: 6.3243581715716966\n",
      "Сдвиг: 506, частота: 5.072010018785222\n",
      "Сдвиг: 550, частота: 5.760801502817784\n",
      "Сдвиг: 572, частота: 5.072010018785222\n",
      "Сдвиг: 638, частота: 5.072010018785222\n",
      "Сдвиг: 660, частота: 5.009392611145898\n"
     ]
    }
   ],
   "source": [
    "get_len_key(decoded_file)"
   ]
  },
  {
   "cell_type": "code",
   "execution_count": 44,
   "metadata": {},
   "outputs": [],
   "source": [
    "key_len = 22"
   ]
  },
  {
   "cell_type": "code",
   "execution_count": 45,
   "metadata": {},
   "outputs": [],
   "source": [
    "top_char = [' ', 'e', 'u', 'o', 'i', 'a', 't', 'm', 'r', 'n']"
   ]
  },
  {
   "cell_type": "code",
   "execution_count": 46,
   "metadata": {},
   "outputs": [],
   "source": [
    "# Получеие текстов закодированных 1 символом\n",
    "def get_texts_coding_one_char(text_cod, divisor):\n",
    "    texts = ['' for x in range(divisor)]\n",
    "    for i in range(0, len(text_cod), divisor):\n",
    "        substr = text_cod[i:i+divisor]\n",
    "        for j in range(len(substr)):\n",
    "            texts[j] += substr[j]\n",
    "    return texts\n",
    "\n",
    "# Полученеи наиболее частных символов\n",
    "def get_often_chs(text, count=5):\n",
    "    ch_count = {}\n",
    "    for ch in text:\n",
    "        if not ch in ch_count: ch_count[ch]=0\n",
    "        ch_count[ch]+=1\n",
    "    ch_sort = sorted(ch_count, reverse=True, key=lambda x: ch_count[x])\n",
    "    return ch_sort[:count]\n",
    "\n",
    "# Получение возможных варианов символа ключа по частотым символам\n",
    "def get_key_variant(often_chs):\n",
    "    key_var={}\n",
    "    for ch in often_chs:\n",
    "        for tch in top_char:\n",
    "            key_ch = chr(ord(ch) ^ ord(tch))\n",
    "            if not key_ch in key_var: key_var[key_ch]=0\n",
    "            key_var[key_ch]+=1\n",
    "    return sorted(key_var, reverse=True, key=lambda x: key_var[x])\n",
    "    \n",
    "# Получение ключа\n",
    "def get_key(texts_one_char):\n",
    "    key = ''\n",
    "    for text in texts_one_char:\n",
    "        often_chs = get_often_chs(text)\n",
    "        key_var = get_key_variant(often_chs)\n",
    "\n",
    "        key_check = set(\"'AaBbCcDdEeFfGgHhIiJjKkLlMmNnOoPpQqRrSsTtUuVvWwXxYyZz 1234567890,.-)(\")\n",
    "        key_var_ok=[]\n",
    "        for k in key_var:\n",
    "            decode = xor_coding(text, k)\n",
    "            if len(set(decode)-key_check)<=3:\n",
    "                key_var_ok.append(k)\n",
    "        if len(key_var_ok)>0: key+=key_var_ok[0]\n",
    "        else: key+='?'\n",
    "        \n",
    "    return key"
   ]
  },
  {
   "cell_type": "code",
   "execution_count": 47,
   "metadata": {},
   "outputs": [
    {
     "name": "stdout",
     "output_type": "stream",
     "text": [
      "Robert Laurence Binyon\n"
     ]
    }
   ],
   "source": [
    "texts_one_char = get_texts_coding_one_char(decoded_file, key_len)\n",
    "key = get_key(texts_one_char)\n",
    "print(key)\n"
   ]
  },
  {
   "cell_type": "code",
   "execution_count": 49,
   "metadata": {},
   "outputs": [
    {
     "data": {
      "text/plain": [
       "\"How dark, how quiet sleeps the vale below!\\nIn the dim farms, look, not a window shines:\\nDistantly heard among the lonely pines,\\nHow soft the languid autumn breezes flow\\nPast me, and kiss my hair, and cheek, and mouth!\\nHalf--veiled is the calm sky:\\nJupiter's kingly eye\\nAlone glows full in the unclouded South.\\n\\nAlas! and can sweet Night avail to heal\\nNot one of the world's wounds? Must I, even here,\\nStill listen with the mind's too wakeful ear\\nTo that sad sound, which in my flesh I feel;\\nSound of unresting, unrejoicing feet,\\nWith feverish steps or slow\\nFor ever, to and fro,\\nPacing the gay, thronged, friendless, stony street?\\n\\nNature is free; but Man the eternal slave\\nOf care and passion. Must I deem that true?\\nWith fields and quiet have we nought to do,\\nBecause our spirits for ever crave and crave,\\nAnd never found their satisfaction yet?\\nWorld, is thy heart so cold,\\nSo deeply weary and old,\\nThat thy sole business is but to forget?\\n\\nNo, no! these perfect trees, with whispering voice,\\nThese flowers, that have to thee a solace been,\\nAnd yet an alien solace, so serene\\nThey live, and in their life seem to rejoice;\\nLife how unlike to thine! These flowers, these trees,\\nAre children of one birth\\nWith thee, O Man; as Earth,\\nEarth, still so fair, for all thy ravages,\\n\\nIs sister to yon radiant Jupiter,\\nWho with such glorious and untroubled gaze\\nUpon his own course burning down Heaven's ways\\nAcross deep seas of darkness looks at her!\\nPerchance in his vast bosom he, too, keeps\\nLike ferment, like distress;\\nYet tranquil shines not less,\\nLord of the night, that round his splendour sleeps.\""
      ]
     },
     "execution_count": 49,
     "metadata": {},
     "output_type": "execute_result"
    }
   ],
   "source": [
    "xor_coding(decoded_file, key)"
   ]
  },
  {
   "cell_type": "code",
   "execution_count": null,
   "metadata": {},
   "outputs": [],
   "source": []
  },
  {
   "cell_type": "code",
   "execution_count": null,
   "metadata": {},
   "outputs": [],
   "source": []
  },
  {
   "cell_type": "code",
   "execution_count": null,
   "metadata": {},
   "outputs": [],
   "source": []
  },
  {
   "cell_type": "code",
   "execution_count": null,
   "metadata": {},
   "outputs": [],
   "source": []
  }
 ],
 "metadata": {
  "kernelspec": {
   "display_name": "Python 3",
   "language": "python",
   "name": "python3"
  },
  "language_info": {
   "codemirror_mode": {
    "name": "ipython",
    "version": 3
   },
   "file_extension": ".py",
   "mimetype": "text/x-python",
   "name": "python",
   "nbconvert_exporter": "python",
   "pygments_lexer": "ipython3",
   "version": "3.7.3"
  }
 },
 "nbformat": 4,
 "nbformat_minor": 2
}
