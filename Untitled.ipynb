{
 "cells": [
  {
   "cell_type": "code",
   "execution_count": 5,
   "metadata": {},
   "outputs": [],
   "source": [
    "url = 'https://telegram.me/DOGE_CHANGE_BOT?start=c_4a552f9de182d626dac2f44f0ba4e9b8'"
   ]
  },
  {
   "cell_type": "code",
   "execution_count": 17,
   "metadata": {},
   "outputs": [],
   "source": [
    "import string\n",
    "alphabet_chars =string.ascii_lowercase + string.digits"
   ]
  },
  {
   "cell_type": "code",
   "execution_count": 18,
   "metadata": {},
   "outputs": [
    {
     "data": {
      "text/plain": [
       "'abcdefghijklmnopqrstuvwxyz0123456789'"
      ]
     },
     "execution_count": 18,
     "metadata": {},
     "output_type": "execute_result"
    }
   ],
   "source": [
    "alphabet_chars"
   ]
  },
  {
   "cell_type": "code",
   "execution_count": 11,
   "metadata": {},
   "outputs": [],
   "source": [
    "def roll(url):\n",
    "        "
   ]
  },
  {
   "cell_type": "code",
   "execution_count": 19,
   "metadata": {},
   "outputs": [
    {
     "data": {
      "text/plain": [
       "'https://telegram.me/DOGE_CHANGE_BOT?start=c_4a552f9de182d626dac2f44f0ba4e9b8'"
      ]
     },
     "execution_count": 19,
     "metadata": {},
     "output_type": "execute_result"
    }
   ],
   "source": [
    "url"
   ]
  },
  {
   "cell_type": "code",
   "execution_count": 33,
   "metadata": {},
   "outputs": [],
   "source": [
    "import webbrowser\n",
    "import time\n",
    "for i in range(10):\n",
    "    webbrowser.open('https://telegram.me/ETH_CHANGE_BOT?start=c_d6e707d130fd87006ef283fbe7f2195c')\n",
    "    time.sleep(3)"
   ]
  },
  {
   "cell_type": "code",
   "execution_count": 48,
   "metadata": {},
   "outputs": [],
   "source": [
    "def startcheck(string):\n",
    "    for i in range(10):\n",
    "        url = string.replace('*',str(i))\n",
    "        webbrowser.open(url)\n",
    "        time.sleep(3)"
   ]
  },
  {
   "cell_type": "code",
   "execution_count": 65,
   "metadata": {},
   "outputs": [],
   "source": [
    "def startcheck_all(string):\n",
    "    for i in alphabet_chars:\n",
    "        url = string.replace('*',str(i))\n",
    "        print(url)\n",
    "        webbrowser.open(url)\n",
    "        time.sleep(4)"
   ]
  },
  {
   "cell_type": "code",
   "execution_count": 71,
   "metadata": {},
   "outputs": [],
   "source": [
    "def startcheck_hex(string):\n",
    "    for i in 'abcdef1234567890':\n",
    "        url = string.replace('*',str(i))\n",
    "        print(url)\n",
    "        webbrowser.open(url)\n",
    "        time.sleep(4)"
   ]
  },
  {
   "cell_type": "code",
   "execution_count": 70,
   "metadata": {},
   "outputs": [],
   "source": [
    "check = 'https://telegram.me/ETH_CHANGE_BOT?start=c_378*ecb7d93e1774528c5069464c9999'"
   ]
  },
  {
   "cell_type": "code",
   "execution_count": 56,
   "metadata": {},
   "outputs": [],
   "source": [
    "startcheck(check)"
   ]
  },
  {
   "cell_type": "code",
   "execution_count": 72,
   "metadata": {},
   "outputs": [
    {
     "name": "stdout",
     "output_type": "stream",
     "text": [
      "https://telegram.me/ETH_CHANGE_BOT?start=c_378aecb7d93e1774528c5069464c9999\n",
      "https://telegram.me/ETH_CHANGE_BOT?start=c_378becb7d93e1774528c5069464c9999\n",
      "https://telegram.me/ETH_CHANGE_BOT?start=c_378cecb7d93e1774528c5069464c9999\n",
      "https://telegram.me/ETH_CHANGE_BOT?start=c_378decb7d93e1774528c5069464c9999\n",
      "https://telegram.me/ETH_CHANGE_BOT?start=c_378eecb7d93e1774528c5069464c9999\n",
      "https://telegram.me/ETH_CHANGE_BOT?start=c_378fecb7d93e1774528c5069464c9999\n",
      "https://telegram.me/ETH_CHANGE_BOT?start=c_3781ecb7d93e1774528c5069464c9999\n",
      "https://telegram.me/ETH_CHANGE_BOT?start=c_3782ecb7d93e1774528c5069464c9999\n",
      "https://telegram.me/ETH_CHANGE_BOT?start=c_3783ecb7d93e1774528c5069464c9999\n",
      "https://telegram.me/ETH_CHANGE_BOT?start=c_3784ecb7d93e1774528c5069464c9999\n",
      "https://telegram.me/ETH_CHANGE_BOT?start=c_3785ecb7d93e1774528c5069464c9999\n",
      "https://telegram.me/ETH_CHANGE_BOT?start=c_3786ecb7d93e1774528c5069464c9999\n",
      "https://telegram.me/ETH_CHANGE_BOT?start=c_3787ecb7d93e1774528c5069464c9999\n",
      "https://telegram.me/ETH_CHANGE_BOT?start=c_3788ecb7d93e1774528c5069464c9999\n",
      "https://telegram.me/ETH_CHANGE_BOT?start=c_3789ecb7d93e1774528c5069464c9999\n",
      "https://telegram.me/ETH_CHANGE_BOT?start=c_3780ecb7d93e1774528c5069464c9999\n"
     ]
    }
   ],
   "source": [
    "startcheck_hex(check)"
   ]
  },
  {
   "cell_type": "code",
   "execution_count": 57,
   "metadata": {},
   "outputs": [
    {
     "data": {
      "text/plain": [
       "True"
      ]
     },
     "execution_count": 57,
     "metadata": {},
     "output_type": "execute_result"
    }
   ],
   "source": [
    "webbrowser.open('https://telegram.me/ETH_CHANGE_BOT?start=c_d6e707d130fd87006ef283fbe7f2195c')"
   ]
  },
  {
   "cell_type": "code",
   "execution_count": null,
   "metadata": {},
   "outputs": [],
   "source": [
    "!git push"
   ]
  },
  {
   "cell_type": "code",
   "execution_count": null,
   "metadata": {},
   "outputs": [],
   "source": []
  }
 ],
 "metadata": {
  "kernelspec": {
   "display_name": "Python 3",
   "language": "python",
   "name": "python3"
  },
  "language_info": {
   "codemirror_mode": {
    "name": "ipython",
    "version": 3
   },
   "file_extension": ".py",
   "mimetype": "text/x-python",
   "name": "python",
   "nbconvert_exporter": "python",
   "pygments_lexer": "ipython3",
   "version": "3.6.5"
  }
 },
 "nbformat": 4,
 "nbformat_minor": 2
}
