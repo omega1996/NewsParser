{
 "cells": [
  {
   "cell_type": "code",
   "execution_count": 1,
   "metadata": {},
   "outputs": [],
   "source": [
    "import os"
   ]
  },
  {
   "cell_type": "code",
   "execution_count": 2,
   "metadata": {},
   "outputs": [],
   "source": [
    "from bs4 import BeautifulSoup  "
   ]
  },
  {
   "cell_type": "code",
   "execution_count": 3,
   "metadata": {},
   "outputs": [],
   "source": [
    "import tqdm"
   ]
  },
  {
   "cell_type": "code",
   "execution_count": 4,
   "metadata": {},
   "outputs": [],
   "source": [
    "from collections import defaultdict"
   ]
  },
  {
   "cell_type": "code",
   "execution_count": 5,
   "metadata": {},
   "outputs": [],
   "source": [
    "import pandas as pd"
   ]
  },
  {
   "cell_type": "code",
   "execution_count": 6,
   "metadata": {},
   "outputs": [],
   "source": [
    "from urllib.parse import unquote"
   ]
  },
  {
   "cell_type": "code",
   "execution_count": 7,
   "metadata": {},
   "outputs": [],
   "source": [
    "path = 'raw\\\\raw\\\\'"
   ]
  },
  {
   "cell_type": "code",
   "execution_count": 8,
   "metadata": {},
   "outputs": [],
   "source": [
    "import re"
   ]
  },
  {
   "cell_type": "code",
   "execution_count": 9,
   "metadata": {},
   "outputs": [
    {
     "data": {
      "text/plain": [
       "['/wiki/fsd_de_ded', '/wiki/dfdf']"
      ]
     },
     "execution_count": 9,
     "metadata": {},
     "output_type": "execute_result"
    }
   ],
   "source": [
    "re.findall(r'/wiki/+\\w*,?\\b','/wiki/fsd_de_ded ddfdfsdsd sds ds sdsd /wiki/dfdf')"
   ]
  },
  {
   "cell_type": "code",
   "execution_count": 10,
   "metadata": {},
   "outputs": [
    {
     "data": {
      "application/vnd.jupyter.widget-view+json": {
       "model_id": "ed40e6d03520418b9a2442a8858d39f0",
       "version_major": 2,
       "version_minor": 0
      },
      "text/plain": [
       "HBox(children=(IntProgress(value=0, max=2379), HTML(value='')))"
      ]
     },
     "metadata": {},
     "output_type": "display_data"
    },
    {
     "name": "stdout",
     "output_type": "stream",
     "text": [
      "\n"
     ]
    }
   ],
   "source": [
    "df = defaultdict(lambda: [])\n",
    "for i in tqdm.tqdm_notebook(os.listdir(path)):\n",
    "    with open (path+'\\\\'+i, encoding=\"UTF-8\") as file:\n",
    "        read = unquote(file.read())\n",
    "    link_site = re.findall(r'/wiki/.+?\\b',read)\n",
    "    for link in link_site:\n",
    "        df[i.split('.')[0]].append(link.split('/')[-1])\n"
   ]
  },
  {
   "cell_type": "code",
   "execution_count": 11,
   "metadata": {},
   "outputs": [
    {
     "data": {
      "text/plain": [
       "['Заглавная_страница',\n",
       " 'Служебная',\n",
       " 'Служебная',\n",
       " 'Википедия',\n",
       " 'Википедия',\n",
       " '10_декабря',\n",
       " '10_декабря',\n",
       " 'Служебная',\n",
       " 'Служебная',\n",
       " 'Википедия',\n",
       " 'Ноябрь',\n",
       " 'Декабрь',\n",
       " 'Январь',\n",
       " 'Понедельник',\n",
       " 'Вторник',\n",
       " 'Среда',\n",
       " 'Четверг',\n",
       " 'Пятница',\n",
       " 'Суббота',\n",
       " 'Воскресенье',\n",
       " '1_декабря',\n",
       " '2_декабря',\n",
       " '3_декабря',\n",
       " '4_декабря',\n",
       " '5_декабря',\n",
       " '6_декабря',\n",
       " '7_декабря',\n",
       " '8_декабря',\n",
       " '9_декабря',\n",
       " '11_декабря',\n",
       " '12_декабря',\n",
       " '13_декабря',\n",
       " '14_декабря',\n",
       " '15_декабря',\n",
       " '16_декабря',\n",
       " '17_декабря',\n",
       " '18_декабря',\n",
       " '19_декабря',\n",
       " '20_декабря',\n",
       " '21_декабря',\n",
       " '22_декабря',\n",
       " '23_декабря',\n",
       " '24_декабря',\n",
       " '25_декабря',\n",
       " '26_декабря',\n",
       " '27_декабря',\n",
       " '28_декабря',\n",
       " '29_декабря',\n",
       " '30_декабря',\n",
       " '31_декабря',\n",
       " '2017_год',\n",
       " 'Високосный_год',\n",
       " 'Григорианский_календарь',\n",
       " 'Юлианский_календарь',\n",
       " 'Категория',\n",
       " 'Файл',\n",
       " 'День_прав_человека',\n",
       " 'Файл',\n",
       " 'Футбол',\n",
       " 'Россия',\n",
       " 'Россия',\n",
       " 'Флаг_Марий_Эл',\n",
       " 'Марий_Эл',\n",
       " 'Файл',\n",
       " 'Андреевский_флаг',\n",
       " 'Таиланд',\n",
       " 'Таиланд',\n",
       " 'Файл',\n",
       " 'Файл',\n",
       " 'Файл',\n",
       " 'Богородица',\n",
       " 'Файл',\n",
       " 'Икона_Божией_Матери_',\n",
       " 'Битва_новгородцев_с_суздальцами',\n",
       " 'Иаков_Персянин',\n",
       " 'Иаков_',\n",
       " 'Всеволод_Мстиславич_',\n",
       " 'Собор_новомучеников_и_исповедников_Радонежских',\n",
       " 'Роман_Антиохийский',\n",
       " 'Николай_',\n",
       " 'Иоасаф_',\n",
       " 'Кронид_',\n",
       " 'Алексий_',\n",
       " 'Курская_Коренная_икона_Божией_Матери',\n",
       " 'Абалакская_икона_Божией_Матери',\n",
       " 'Всеволод',\n",
       " 'Григорий',\n",
       " 'Роман_',\n",
       " 'Яков',\n",
       " 'Юлия',\n",
       " 'Категория',\n",
       " '59_год_до_н',\n",
       " 'Публий_Клодий_Пульхр',\n",
       " 'Патриции',\n",
       " 'Народный_трибун',\n",
       " '36_год_до_н',\n",
       " 'Календарь_майя',\n",
       " 'Чьяпа',\n",
       " 'Чьяпас',\n",
       " 'Мексика',\n",
       " '1520_год',\n",
       " 'Лютер',\n",
       " 'Булла',\n",
       " 'Exsurge_Domine',\n",
       " '1768_год',\n",
       " 'Лондон',\n",
       " 'Королевская_Академия_художеств',\n",
       " '1798_год',\n",
       " 'Павел_I',\n",
       " 'Мальтийский_орден',\n",
       " '1828_год',\n",
       " 'Николай_I',\n",
       " 'Санкт',\n",
       " 'Санкт',\n",
       " '1848_год',\n",
       " 'Наполеон_III',\n",
       " 'Франция',\n",
       " '1877_год',\n",
       " 'Плевен',\n",
       " 'Осада_Плевны',\n",
       " '1901_год',\n",
       " 'Нобелевская_премия',\n",
       " '1930_год',\n",
       " 'Ханты',\n",
       " 'Эвенкийский_автономный_округ',\n",
       " '1933_год',\n",
       " 'Белорусская_ССР',\n",
       " 'Президентская_библиотека_Республики_Беларусь',\n",
       " '1941_год',\n",
       " 'Южно',\n",
       " 'Авиация',\n",
       " 'Бой_под_Куантаном',\n",
       " 'Линкор',\n",
       " 'HMS_Prince_of_Wales_',\n",
       " 'Линейный_крейсер',\n",
       " 'HMS_Repulse_',\n",
       " '1948_год',\n",
       " 'Генеральная_Ассамблея_ООН',\n",
       " 'Всеобщая_декларация_прав_человека',\n",
       " '1949_год',\n",
       " '1997_год',\n",
       " 'Астана',\n",
       " 'Категория',\n",
       " '1745_год',\n",
       " 'Холкрофт',\n",
       " '1815_год',\n",
       " 'Лавлэйс',\n",
       " 'Байрон',\n",
       " '1852_год',\n",
       " '1821_год',\n",
       " 'Некрасов',\n",
       " '1878_год',\n",
       " '1822_год',\n",
       " 'Франк',\n",
       " '1890_год',\n",
       " '1830_год',\n",
       " 'Дикинсон',\n",
       " '1886_год',\n",
       " '1841_год',\n",
       " 'Блэкберн',\n",
       " '1924_год',\n",
       " '1883_год',\n",
       " 'Вышинский',\n",
       " '1954',\n",
       " '1890_год',\n",
       " 'Валиди',\n",
       " '1970_год',\n",
       " '1891_год',\n",
       " 'Закс',\n",
       " '1970_год',\n",
       " '1901_год',\n",
       " 'Карандаш_',\n",
       " '1983',\n",
       " '1906_год',\n",
       " 'Аалтонен',\n",
       " '1908_год',\n",
       " 'Мессиан',\n",
       " '1992_год',\n",
       " '1918_год',\n",
       " 'Тарасов',\n",
       " '1995',\n",
       " '1920_год',\n",
       " 'Реджинальд_Роуз',\n",
       " '2002_год',\n",
       " '1928_год',\n",
       " 'Руфус',\n",
       " '2009_год',\n",
       " '1934_год',\n",
       " 'Попов',\n",
       " '2008_год',\n",
       " '1957_год',\n",
       " 'Майкл_Кларк_Дункан',\n",
       " '2012_год',\n",
       " '1960_год',\n",
       " 'Брана',\n",
       " '1964',\n",
       " 'Таисия_Повалий',\n",
       " '1972_год',\n",
       " 'Молко',\n",
       " 'Placebo',\n",
       " '1977_год',\n",
       " 'Хенкель',\n",
       " 'Категория',\n",
       " '1198_год',\n",
       " 'Аверроэс',\n",
       " 'Арабы',\n",
       " 'Врач',\n",
       " '1475_год',\n",
       " 'Уччелло',\n",
       " '1397_год',\n",
       " 'Италия',\n",
       " 'Эпоха_Возрождения',\n",
       " 'Перспектива',\n",
       " '1552_год',\n",
       " 'Джовио',\n",
       " '1483_год',\n",
       " 'Епископ',\n",
       " '1603_год',\n",
       " 'Гильберт',\n",
       " '1544_год',\n",
       " 'Елизавета_I_',\n",
       " '1798_год',\n",
       " 'Стуока',\n",
       " 'Литва',\n",
       " 'Архитектор',\n",
       " '1864_год',\n",
       " 'Скулкрафт',\n",
       " '1882_год',\n",
       " 'Глазенап',\n",
       " '1847_год',\n",
       " 'Инженер',\n",
       " '1896_год',\n",
       " 'Нобель',\n",
       " '1833_год',\n",
       " 'Швеция',\n",
       " 'Нобелевская_премия',\n",
       " '1906_год',\n",
       " 'Гарин',\n",
       " '1852_год',\n",
       " '1910_год',\n",
       " 'Гинцбург',\n",
       " '1857_год',\n",
       " 'Россия',\n",
       " 'Еврейская_энциклопедия',\n",
       " '1928_год',\n",
       " 'Макинтош',\n",
       " '1868_год',\n",
       " 'Шотландия',\n",
       " 'Дизайн',\n",
       " 'Иллюстрация',\n",
       " '1936_год',\n",
       " 'Пиранделло',\n",
       " '1867_год',\n",
       " 'Италия',\n",
       " 'Писатель',\n",
       " 'Нобелевская_премия_по_литературе',\n",
       " '1934_год',\n",
       " '1968_год',\n",
       " 'Барт',\n",
       " '1886_год',\n",
       " '1972_год',\n",
       " 'Кирсанов',\n",
       " '1906_год',\n",
       " 'Поэт',\n",
       " '1976_год',\n",
       " 'Реддинг',\n",
       " '1941_год',\n",
       " '1987_год',\n",
       " 'Хейфец',\n",
       " '1901_год',\n",
       " 'Скрипка',\n",
       " '1989_год',\n",
       " 'Спиридонов',\n",
       " '1944_год',\n",
       " 'Актёр',\n",
       " 'Вечный_зов_',\n",
       " 'Юность_Петра',\n",
       " 'Демидовы_',\n",
       " 'Батальоны_просят_огня_',\n",
       " '1990_год',\n",
       " 'Хаммер',\n",
       " '1898_год',\n",
       " 'Союз_Советских_Социалистических_Республик',\n",
       " '1921_год',\n",
       " '1995_год',\n",
       " 'Людвиковский',\n",
       " '1925_год',\n",
       " 'Дирижёр',\n",
       " '1999_год',\n",
       " 'Туджман',\n",
       " '1922_год',\n",
       " 'Хорватия',\n",
       " '2004_год',\n",
       " 'Муратов',\n",
       " '1928_год',\n",
       " 'Василий_Алибабаевич',\n",
       " 'Заслуженный_артист_РСФСР',\n",
       " '2006_год',\n",
       " 'Пиночет_Угарте',\n",
       " '1915_год',\n",
       " 'Генерал',\n",
       " 'Диктатор',\n",
       " 'Чили',\n",
       " '1973_год',\n",
       " '1990_год',\n",
       " 'Рыбы',\n",
       " 'Дно',\n",
       " 'Звезда',\n",
       " 'Север',\n",
       " 'Лось',\n",
       " 'Медведь',\n",
       " 'Category',\n",
       " 'Category',\n",
       " 'Категория',\n",
       " 'Категория',\n",
       " 'Категория',\n",
       " 'Православие_и_мир',\n",
       " 'Special',\n",
       " 'Служебная',\n",
       " 'Privacy_policy']"
      ]
     },
     "execution_count": 11,
     "metadata": {},
     "output_type": "execute_result"
    }
   ],
   "source": [
    "df['10_декабря']"
   ]
  },
  {
   "cell_type": "code",
   "execution_count": 15,
   "metadata": {
    "scrolled": true
   },
   "outputs": [
    {
     "data": {
      "application/vnd.jupyter.widget-view+json": {
       "model_id": "c75de7de007b4edc8596f61ee4620206",
       "version_major": 2,
       "version_minor": 0
      },
      "text/plain": [
       "HBox(children=(IntProgress(value=0, max=2379), HTML(value='')))"
      ]
     },
     "metadata": {},
     "output_type": "display_data"
    },
    {
     "ename": "KeyboardInterrupt",
     "evalue": "",
     "output_type": "error",
     "traceback": [
      "\u001b[1;31m---------------------------------------------------------------------------\u001b[0m",
      "\u001b[1;31mKeyboardInterrupt\u001b[0m                         Traceback (most recent call last)",
      "\u001b[1;32m<ipython-input-15-2b667871276e>\u001b[0m in \u001b[0;36m<module>\u001b[1;34m()\u001b[0m\n\u001b[0;32m      4\u001b[0m         \u001b[0mread\u001b[0m \u001b[1;33m=\u001b[0m \u001b[0mfile\u001b[0m\u001b[1;33m.\u001b[0m\u001b[0mread\u001b[0m\u001b[1;33m(\u001b[0m\u001b[1;33m)\u001b[0m\u001b[1;33m\u001b[0m\u001b[0m\n\u001b[0;32m      5\u001b[0m     \u001b[0msoup\u001b[0m \u001b[1;33m=\u001b[0m \u001b[0mBeautifulSoup\u001b[0m\u001b[1;33m(\u001b[0m\u001b[0mread\u001b[0m\u001b[1;33m,\u001b[0m \u001b[1;34m'html.parser'\u001b[0m\u001b[1;33m)\u001b[0m\u001b[1;33m\u001b[0m\u001b[0m\n\u001b[1;32m----> 6\u001b[1;33m     \u001b[0mlinks\u001b[0m \u001b[1;33m=\u001b[0m \u001b[0msoup\u001b[0m\u001b[1;33m.\u001b[0m\u001b[0mfind_all\u001b[0m\u001b[1;33m(\u001b[0m\u001b[1;34m'a'\u001b[0m\u001b[1;33m)\u001b[0m\u001b[1;33m\u001b[0m\u001b[0m\n\u001b[0m\u001b[0;32m      7\u001b[0m     \u001b[1;32mtry\u001b[0m\u001b[1;33m:\u001b[0m\u001b[1;33m\u001b[0m\u001b[0m\n\u001b[0;32m      8\u001b[0m         \u001b[0mdf\u001b[0m\u001b[1;33m[\u001b[0m\u001b[0mi\u001b[0m\u001b[1;33m]\u001b[0m\u001b[1;33m.\u001b[0m\u001b[0mextend\u001b[0m\u001b[1;33m(\u001b[0m\u001b[1;33m[\u001b[0m\u001b[0munquote\u001b[0m\u001b[1;33m(\u001b[0m\u001b[0mlink\u001b[0m\u001b[1;33m[\u001b[0m\u001b[1;34m\"href\"\u001b[0m\u001b[1;33m]\u001b[0m\u001b[1;33m)\u001b[0m\u001b[1;33m.\u001b[0m\u001b[0msplit\u001b[0m\u001b[1;33m(\u001b[0m\u001b[1;34m'/'\u001b[0m\u001b[1;33m)\u001b[0m\u001b[1;33m[\u001b[0m\u001b[1;33m-\u001b[0m\u001b[1;36m1\u001b[0m\u001b[1;33m]\u001b[0m \u001b[1;32mfor\u001b[0m \u001b[0mlink\u001b[0m \u001b[1;32min\u001b[0m \u001b[0mlinks\u001b[0m\u001b[1;33m]\u001b[0m\u001b[1;33m)\u001b[0m\u001b[1;33m\u001b[0m\u001b[0m\n",
      "\u001b[1;32mC:\\ProgramData\\Anaconda3\\lib\\site-packages\\bs4\\element.py\u001b[0m in \u001b[0;36mfind_all\u001b[1;34m(self, name, attrs, recursive, text, limit, **kwargs)\u001b[0m\n\u001b[0;32m   1311\u001b[0m         \u001b[1;32mif\u001b[0m \u001b[1;32mnot\u001b[0m \u001b[0mrecursive\u001b[0m\u001b[1;33m:\u001b[0m\u001b[1;33m\u001b[0m\u001b[0m\n\u001b[0;32m   1312\u001b[0m             \u001b[0mgenerator\u001b[0m \u001b[1;33m=\u001b[0m \u001b[0mself\u001b[0m\u001b[1;33m.\u001b[0m\u001b[0mchildren\u001b[0m\u001b[1;33m\u001b[0m\u001b[0m\n\u001b[1;32m-> 1313\u001b[1;33m         \u001b[1;32mreturn\u001b[0m \u001b[0mself\u001b[0m\u001b[1;33m.\u001b[0m\u001b[0m_find_all\u001b[0m\u001b[1;33m(\u001b[0m\u001b[0mname\u001b[0m\u001b[1;33m,\u001b[0m \u001b[0mattrs\u001b[0m\u001b[1;33m,\u001b[0m \u001b[0mtext\u001b[0m\u001b[1;33m,\u001b[0m \u001b[0mlimit\u001b[0m\u001b[1;33m,\u001b[0m \u001b[0mgenerator\u001b[0m\u001b[1;33m,\u001b[0m \u001b[1;33m**\u001b[0m\u001b[0mkwargs\u001b[0m\u001b[1;33m)\u001b[0m\u001b[1;33m\u001b[0m\u001b[0m\n\u001b[0m\u001b[0;32m   1314\u001b[0m     \u001b[0mfindAll\u001b[0m \u001b[1;33m=\u001b[0m \u001b[0mfind_all\u001b[0m       \u001b[1;31m# BS3\u001b[0m\u001b[1;33m\u001b[0m\u001b[0m\n\u001b[0;32m   1315\u001b[0m     \u001b[0mfindChildren\u001b[0m \u001b[1;33m=\u001b[0m \u001b[0mfind_all\u001b[0m  \u001b[1;31m# BS2\u001b[0m\u001b[1;33m\u001b[0m\u001b[0m\n",
      "\u001b[1;32mC:\\ProgramData\\Anaconda3\\lib\\site-packages\\bs4\\element.py\u001b[0m in \u001b[0;36m_find_all\u001b[1;34m(self, name, attrs, text, limit, generator, **kwargs)\u001b[0m\n\u001b[0;32m    546\u001b[0m                           \u001b[1;32mand\u001b[0m \u001b[1;33m(\u001b[0m\u001b[0mprefix\u001b[0m \u001b[1;32mis\u001b[0m \u001b[1;32mNone\u001b[0m \u001b[1;32mor\u001b[0m \u001b[0melement\u001b[0m\u001b[1;33m.\u001b[0m\u001b[0mprefix\u001b[0m \u001b[1;33m==\u001b[0m \u001b[0mprefix\u001b[0m\u001b[1;33m)\u001b[0m\u001b[1;33m\u001b[0m\u001b[0m\n\u001b[0;32m    547\u001b[0m                 )\n\u001b[1;32m--> 548\u001b[1;33m                 \u001b[1;32mreturn\u001b[0m \u001b[0mResultSet\u001b[0m\u001b[1;33m(\u001b[0m\u001b[0mstrainer\u001b[0m\u001b[1;33m,\u001b[0m \u001b[0mresult\u001b[0m\u001b[1;33m)\u001b[0m\u001b[1;33m\u001b[0m\u001b[0m\n\u001b[0m\u001b[0;32m    549\u001b[0m         \u001b[0mresults\u001b[0m \u001b[1;33m=\u001b[0m \u001b[0mResultSet\u001b[0m\u001b[1;33m(\u001b[0m\u001b[0mstrainer\u001b[0m\u001b[1;33m)\u001b[0m\u001b[1;33m\u001b[0m\u001b[0m\n\u001b[0;32m    550\u001b[0m         \u001b[1;32mwhile\u001b[0m \u001b[1;32mTrue\u001b[0m\u001b[1;33m:\u001b[0m\u001b[1;33m\u001b[0m\u001b[0m\n",
      "\u001b[1;32mC:\\ProgramData\\Anaconda3\\lib\\site-packages\\bs4\\element.py\u001b[0m in \u001b[0;36m__init__\u001b[1;34m(self, source, result)\u001b[0m\n\u001b[0;32m   1800\u001b[0m     that created it.\"\"\"\n\u001b[0;32m   1801\u001b[0m     \u001b[1;32mdef\u001b[0m \u001b[0m__init__\u001b[0m\u001b[1;33m(\u001b[0m\u001b[0mself\u001b[0m\u001b[1;33m,\u001b[0m \u001b[0msource\u001b[0m\u001b[1;33m,\u001b[0m \u001b[0mresult\u001b[0m\u001b[1;33m=\u001b[0m\u001b[1;33m(\u001b[0m\u001b[1;33m)\u001b[0m\u001b[1;33m)\u001b[0m\u001b[1;33m:\u001b[0m\u001b[1;33m\u001b[0m\u001b[0m\n\u001b[1;32m-> 1802\u001b[1;33m         \u001b[0msuper\u001b[0m\u001b[1;33m(\u001b[0m\u001b[0mResultSet\u001b[0m\u001b[1;33m,\u001b[0m \u001b[0mself\u001b[0m\u001b[1;33m)\u001b[0m\u001b[1;33m.\u001b[0m\u001b[0m__init__\u001b[0m\u001b[1;33m(\u001b[0m\u001b[0mresult\u001b[0m\u001b[1;33m)\u001b[0m\u001b[1;33m\u001b[0m\u001b[0m\n\u001b[0m\u001b[0;32m   1803\u001b[0m         \u001b[0mself\u001b[0m\u001b[1;33m.\u001b[0m\u001b[0msource\u001b[0m \u001b[1;33m=\u001b[0m \u001b[0msource\u001b[0m\u001b[1;33m\u001b[0m\u001b[0m\n\u001b[0;32m   1804\u001b[0m \u001b[1;33m\u001b[0m\u001b[0m\n",
      "\u001b[1;32mC:\\ProgramData\\Anaconda3\\lib\\site-packages\\bs4\\element.py\u001b[0m in \u001b[0;36m<genexpr>\u001b[1;34m(.0)\u001b[0m\n\u001b[0;32m    541\u001b[0m                 \u001b[1;32melse\u001b[0m\u001b[1;33m:\u001b[0m\u001b[1;33m\u001b[0m\u001b[0m\n\u001b[0;32m    542\u001b[0m                     \u001b[0mprefix\u001b[0m \u001b[1;33m=\u001b[0m \u001b[1;32mNone\u001b[0m\u001b[1;33m\u001b[0m\u001b[0m\n\u001b[1;32m--> 543\u001b[1;33m                 result = (element for element in generator\n\u001b[0m\u001b[0;32m    544\u001b[0m                           \u001b[1;32mif\u001b[0m \u001b[0misinstance\u001b[0m\u001b[1;33m(\u001b[0m\u001b[0melement\u001b[0m\u001b[1;33m,\u001b[0m \u001b[0mTag\u001b[0m\u001b[1;33m)\u001b[0m\u001b[1;33m\u001b[0m\u001b[0m\n\u001b[0;32m    545\u001b[0m                             \u001b[1;32mand\u001b[0m \u001b[0melement\u001b[0m\u001b[1;33m.\u001b[0m\u001b[0mname\u001b[0m \u001b[1;33m==\u001b[0m \u001b[0mname\u001b[0m\u001b[1;33m\u001b[0m\u001b[0m\n",
      "\u001b[1;32mC:\\ProgramData\\Anaconda3\\lib\\site-packages\\bs4\\element.py\u001b[0m in \u001b[0;36mdescendants\u001b[1;34m(self)\u001b[0m\n\u001b[0;32m   1329\u001b[0m         \u001b[1;32mwhile\u001b[0m \u001b[0mcurrent\u001b[0m \u001b[1;32mis\u001b[0m \u001b[1;32mnot\u001b[0m \u001b[0mstopNode\u001b[0m\u001b[1;33m:\u001b[0m\u001b[1;33m\u001b[0m\u001b[0m\n\u001b[0;32m   1330\u001b[0m             \u001b[1;32myield\u001b[0m \u001b[0mcurrent\u001b[0m\u001b[1;33m\u001b[0m\u001b[0m\n\u001b[1;32m-> 1331\u001b[1;33m             \u001b[0mcurrent\u001b[0m \u001b[1;33m=\u001b[0m \u001b[0mcurrent\u001b[0m\u001b[1;33m.\u001b[0m\u001b[0mnext_element\u001b[0m\u001b[1;33m\u001b[0m\u001b[0m\n\u001b[0m\u001b[0;32m   1332\u001b[0m \u001b[1;33m\u001b[0m\u001b[0m\n\u001b[0;32m   1333\u001b[0m     \u001b[1;31m# CSS selector code\u001b[0m\u001b[1;33m\u001b[0m\u001b[1;33m\u001b[0m\u001b[0m\n",
      "\u001b[1;31mKeyboardInterrupt\u001b[0m: "
     ]
    }
   ],
   "source": [
    "df = defaultdict(lambda: [])\n",
    "for i in tqdm.tqdm_notebook(os.listdir(path)):\n",
    "    with open (path+'\\\\'+i, encoding=\"UTF-8\") as file:\n",
    "        read = file.read()\n",
    "    soup = BeautifulSoup(read, 'html.parser')\n",
    "    links = soup.find_all('a')\n",
    "    link_site = unquote(link[\"href\"])\n",
    "    for link in links:\n",
    "        try:\n",
    "            link_site = unquote(link[\"href\"])\n",
    "        except:\n",
    "            link_site = ''\n",
    "        if 'wiki' in link_site:\n",
    "            df[i].append(link_site.split('/')[-1])\n",
    "\n",
    "            "
   ]
  },
  {
   "cell_type": "code",
   "execution_count": null,
   "metadata": {},
   "outputs": [],
   "source": [
    "dataframe = pd.Series(df).str.join('|').str.get_dummies()"
   ]
  },
  {
   "cell_type": "code",
   "execution_count": 1,
   "metadata": {},
   "outputs": [
    {
     "ename": "NameError",
     "evalue": "name 'link_site' is not defined",
     "output_type": "error",
     "traceback": [
      "\u001b[1;31m---------------------------------------------------------------------------\u001b[0m",
      "\u001b[1;31mNameError\u001b[0m                                 Traceback (most recent call last)",
      "\u001b[1;32m<ipython-input-1-7921230ab28e>\u001b[0m in \u001b[0;36m<module>\u001b[1;34m()\u001b[0m\n\u001b[1;32m----> 1\u001b[1;33m \u001b[0mlink_site\u001b[0m\u001b[1;33m\u001b[0m\u001b[0m\n\u001b[0m",
      "\u001b[1;31mNameError\u001b[0m: name 'link_site' is not defined"
     ]
    }
   ],
   "source": [
    "link_site"
   ]
  },
  {
   "cell_type": "code",
   "execution_count": null,
   "metadata": {},
   "outputs": [],
   "source": []
  }
 ],
 "metadata": {
  "kernelspec": {
   "display_name": "Python 3",
   "language": "python",
   "name": "python3"
  },
  "language_info": {
   "codemirror_mode": {
    "name": "ipython",
    "version": 3
   },
   "file_extension": ".py",
   "mimetype": "text/x-python",
   "name": "python",
   "nbconvert_exporter": "python",
   "pygments_lexer": "ipython3",
   "version": "3.6.5"
  }
 },
 "nbformat": 4,
 "nbformat_minor": 2
}
