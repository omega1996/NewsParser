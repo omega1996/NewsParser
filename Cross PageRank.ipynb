{
 "cells": [
  {
   "cell_type": "code",
   "execution_count": 181,
   "metadata": {},
   "outputs": [],
   "source": [
    "from collections import defaultdict\n",
    "import pandas as pd\n",
    "from urllib.parse import unquote\n",
    "import tqdm\n",
    "import os\n",
    "from bs4 import BeautifulSoup  \n",
    "import numpy as np\n",
    "import urllib\n"
   ]
  },
  {
   "cell_type": "code",
   "execution_count": 182,
   "metadata": {},
   "outputs": [],
   "source": [
    "path = 'raw\\\\raw\\\\'"
   ]
  },
  {
   "cell_type": "code",
   "execution_count": 183,
   "metadata": {},
   "outputs": [],
   "source": [
    "import re"
   ]
  },
  {
   "cell_type": "code",
   "execution_count": 184,
   "metadata": {},
   "outputs": [
    {
     "data": {
      "text/plain": [
       "['/wiki/fsd_de_ded', '/wiki/dfdf']"
      ]
     },
     "execution_count": 184,
     "metadata": {},
     "output_type": "execute_result"
    }
   ],
   "source": [
    "re.findall(r'/wiki/+\\w*,?\\b','/wiki/fsd_de_ded ddfdfsdsd sds ds sdsd /wiki/dfdf')"
   ]
  },
  {
   "cell_type": "code",
   "execution_count": 185,
   "metadata": {},
   "outputs": [],
   "source": [
    "topics = {}\n",
    "for i, file in enumerate(os.listdir(path)):\n",
    "    topics[file[:-5]] = i"
   ]
  },
  {
   "cell_type": "code",
   "execution_count": 186,
   "metadata": {},
   "outputs": [
    {
     "data": {
      "text/plain": [
       "2381"
      ]
     },
     "execution_count": 186,
     "metadata": {},
     "output_type": "execute_result"
    }
   ],
   "source": [
    "len(topics)"
   ]
  },
  {
   "cell_type": "code",
   "execution_count": 187,
   "metadata": {},
   "outputs": [],
   "source": [
    "matrix = np.zeros((len(filenames), len(filenames)))"
   ]
  },
  {
   "cell_type": "code",
   "execution_count": 188,
   "metadata": {},
   "outputs": [
    {
     "data": {
      "text/plain": [
       "(2380, 2380)"
      ]
     },
     "execution_count": 188,
     "metadata": {},
     "output_type": "execute_result"
    }
   ],
   "source": [
    "matrix.shape"
   ]
  },
  {
   "cell_type": "code",
   "execution_count": 157,
   "metadata": {},
   "outputs": [
    {
     "data": {
      "application/vnd.jupyter.widget-view+json": {
       "model_id": "70c529ac53cc49308d0228091cf114c5",
       "version_major": 2,
       "version_minor": 0
      },
      "text/plain": [
       "HBox(children=(IntProgress(value=0, max=2381), HTML(value='')))"
      ]
     },
     "metadata": {},
     "output_type": "display_data"
    }
   ],
   "source": [
    "df = defaultdict(lambda: [])\n",
    "for i in tqdm.tqdm_notebook(os.listdir(path)):\n",
    "    with open (path+'\\\\'+i, encoding=\"UTF-8\") as file:\n",
    "        read = unquote(file.read())\n",
    "        cur_topic = i[:-5]\n",
    "        link_site = re.findall(r'/wiki/.+?\\b',read)\n",
    "        for link in link_site:\n",
    "            if link in topics.keys():\n",
    "                df[i.split('.')[0]].append(link.split('/')[-1])\n",
    "                matrix[topics[cur_topic]][topics[link[6:]]] = 1\n",
    "                \n",
    "        "
   ]
  },
  {
   "cell_type": "code",
   "execution_count": 158,
   "metadata": {},
   "outputs": [
    {
     "data": {
      "text/plain": [
       "array([[0., 0., 0., ..., 0., 0., 0.],\n",
       "       [0., 0., 0., ..., 0., 0., 0.],\n",
       "       [0., 0., 0., ..., 0., 0., 0.],\n",
       "       ...,\n",
       "       [0., 0., 0., ..., 0., 0., 0.],\n",
       "       [0., 0., 0., ..., 0., 0., 0.],\n",
       "       [0., 0., 0., ..., 0., 0., 0.]])"
      ]
     },
     "execution_count": 158,
     "metadata": {},
     "output_type": "execute_result"
    }
   ],
   "source": [
    "matrix"
   ]
  },
  {
   "cell_type": "code",
   "execution_count": 189,
   "metadata": {
    "scrolled": true
   },
   "outputs": [
    {
     "data": {
      "application/vnd.jupyter.widget-view+json": {
       "model_id": "cf3bd643586649ad85d6bcca124e0405",
       "version_major": 2,
       "version_minor": 0
      },
      "text/plain": [
       "HBox(children=(IntProgress(value=0, max=2380), HTML(value='')))"
      ]
     },
     "metadata": {},
     "output_type": "display_data"
    },
    {
     "ename": "IndexError",
     "evalue": "index 2380 is out of bounds for axis 0 with size 2380",
     "output_type": "error",
     "traceback": [
      "\u001b[1;31m---------------------------------------------------------------------------\u001b[0m",
      "\u001b[1;31mIndexError\u001b[0m                                Traceback (most recent call last)",
      "\u001b[1;32m<ipython-input-189-e25382365771>\u001b[0m in \u001b[0;36m<module>\u001b[1;34m()\u001b[0m\n\u001b[0;32m      9\u001b[0m             \u001b[0mhref\u001b[0m \u001b[1;33m=\u001b[0m \u001b[0murllib\u001b[0m\u001b[1;33m.\u001b[0m\u001b[0mparse\u001b[0m\u001b[1;33m.\u001b[0m\u001b[0munquote\u001b[0m\u001b[1;33m(\u001b[0m\u001b[0mlink\u001b[0m\u001b[1;33m[\u001b[0m\u001b[1;34m'href'\u001b[0m\u001b[1;33m]\u001b[0m\u001b[1;33m)\u001b[0m\u001b[1;33m\u001b[0m\u001b[0m\n\u001b[0;32m     10\u001b[0m             \u001b[1;32mif\u001b[0m \u001b[0mhref\u001b[0m\u001b[1;33m.\u001b[0m\u001b[0mstartswith\u001b[0m\u001b[1;33m(\u001b[0m\u001b[1;34m\"/wiki/\"\u001b[0m\u001b[1;33m)\u001b[0m \u001b[1;32mand\u001b[0m \u001b[0mhref\u001b[0m\u001b[1;33m[\u001b[0m\u001b[1;36m6\u001b[0m\u001b[1;33m:\u001b[0m\u001b[1;33m]\u001b[0m \u001b[1;32min\u001b[0m \u001b[0mtopics\u001b[0m\u001b[1;33m:\u001b[0m\u001b[1;33m\u001b[0m\u001b[0m\n\u001b[1;32m---> 11\u001b[1;33m                 \u001b[0mmatrix\u001b[0m\u001b[1;33m[\u001b[0m\u001b[0mtopics\u001b[0m\u001b[1;33m[\u001b[0m\u001b[0mcur_topic\u001b[0m\u001b[1;33m]\u001b[0m\u001b[1;33m]\u001b[0m\u001b[1;33m[\u001b[0m\u001b[0mtopics\u001b[0m\u001b[1;33m[\u001b[0m\u001b[0mhref\u001b[0m\u001b[1;33m[\u001b[0m\u001b[1;36m6\u001b[0m\u001b[1;33m:\u001b[0m\u001b[1;33m]\u001b[0m\u001b[1;33m]\u001b[0m\u001b[1;33m]\u001b[0m \u001b[1;33m=\u001b[0m \u001b[1;36m1\u001b[0m\u001b[1;33m\u001b[0m\u001b[0m\n\u001b[0m\u001b[0;32m     12\u001b[0m \u001b[1;33m\u001b[0m\u001b[0m\n\u001b[0;32m     13\u001b[0m \u001b[1;33m\u001b[0m\u001b[0m\n",
      "\u001b[1;31mIndexError\u001b[0m: index 2380 is out of bounds for axis 0 with size 2380"
     ]
    }
   ],
   "source": [
    "for file in tqdm.tqdm_notebook(filenames):\n",
    "    with open(f\"raw/raw/{file}\", encoding='utf-8') as f:\n",
    "        cur_topic = file[:-5]\n",
    "        bs = BeautifulSoup(f.read(), \"html.parser\")\n",
    "        all_a = bs.find_all(\"a\")\n",
    "        for link in all_a:\n",
    "            if not 'href' in link.attrs:\n",
    "                continue\n",
    "            href = urllib.parse.unquote(link['href'])\n",
    "            if href.startswith(\"/wiki/\") and href[6:] in topics:\n",
    "                matrix[topics[cur_topic]][topics[href[6:]]] = 1\n",
    "\n",
    "            "
   ]
  },
  {
   "cell_type": "code",
   "execution_count": 160,
   "metadata": {},
   "outputs": [],
   "source": [
    "for i in matrix:\n",
    "    for j in range(len(i)):\n",
    "        if i[j] == 0:\n",
    "            i[j] = 0.001"
   ]
  },
  {
   "cell_type": "code",
   "execution_count": 161,
   "metadata": {},
   "outputs": [],
   "source": [
    "row_sums = matrix.sum(axis=1)\n",
    "norm_matrix = matrix / row_sums[:, np.newaxis]\n",
    "vector = np.array([0.2]*len(filenames))"
   ]
  },
  {
   "cell_type": "code",
   "execution_count": 162,
   "metadata": {},
   "outputs": [],
   "source": [
    "for _ in range(100):\n",
    "    vector = norm_matrix.transpose().dot(vector)"
   ]
  },
  {
   "cell_type": "code",
   "execution_count": 163,
   "metadata": {},
   "outputs": [
    {
     "data": {
      "text/plain": [
       "array([0.2, 0.2])"
      ]
     },
     "execution_count": 163,
     "metadata": {},
     "output_type": "execute_result"
    }
   ],
   "source": [
    "np.take(vector, [1, 2])"
   ]
  },
  {
   "cell_type": "code",
   "execution_count": 164,
   "metadata": {},
   "outputs": [],
   "source": [
    "rank = {}\n",
    "for i, value in enumerate(vector):\n",
    "    rank[i] = value"
   ]
  },
  {
   "cell_type": "code",
   "execution_count": 165,
   "metadata": {},
   "outputs": [],
   "source": [
    "def page_rank(rank, n=10, word=None):\n",
    "    if word is not None:\n",
    "        new_topics = [ind for topic, ind in topics.items() if word.lower() in topic.lower()]\n",
    "    if word is not None:\n",
    "        new_rank = {}\n",
    "        for ind in new_topics:\n",
    "            new_rank[ind] = rank[ind]\n",
    "    else:\n",
    "        new_rank = rank.copy()\n",
    "    items = sorted(new_rank.items(), key=lambda t: t[1])[::-1][:n]\n",
    "    for index, value in items:\n",
    "        print(f\"{filenames[index][:-5]}: {value}\")"
   ]
  },
  {
   "cell_type": "code",
   "execution_count": 166,
   "metadata": {},
   "outputs": [
    {
     "name": "stdout",
     "output_type": "stream",
     "text": [
      "Ярл: 0.20000000000002569\n",
      "Япония: 0.20000000000002569\n",
      "Яков_V_(король_Шотландии): 0.20000000000002569\n",
      "Яков_VI_(король_Шотландии): 0.20000000000002569\n",
      "Яков_I_(король_Англии): 0.20000000000002569\n",
      "Яков_II_(король_Англии): 0.20000000000002569\n",
      "Яичко: 0.20000000000002569\n",
      "Языки_мира: 0.20000000000002569\n",
      "Я_—_легенда_(фильм): 0.20000000000002569\n",
      "Юты: 0.20000000000002569\n"
     ]
    }
   ],
   "source": [
    "page_rank(rank=rank)"
   ]
  },
  {
   "cell_type": "code",
   "execution_count": 167,
   "metadata": {},
   "outputs": [
    {
     "name": "stdout",
     "output_type": "stream",
     "text": [
      "Пэт_Гэрретт_и_Билли_Кид: 0.20000000000002569\n",
      "Клан_Скотт: 0.20000000000002569\n",
      "Билли_Джо_Армстронг: 0.20000000000002569\n",
      "Армстронг_(фамилия): 0.20000000000002569\n",
      "Армстронг_(округ,_Техас): 0.20000000000002569\n",
      "Армстронг_(округ,_Пенсильвания): 0.20000000000002569\n",
      "Армстронг_(округ): 0.20000000000002569\n",
      "Армстронг_(лунный_кратер): 0.20000000000002569\n",
      "Армстронг: 0.20000000000002569\n",
      "Армстронг-Уитворт: 0.20000000000002569\n"
     ]
    }
   ],
   "source": [
    "page_rank(rank=rank, word='армстронг')"
   ]
  },
  {
   "cell_type": "code",
   "execution_count": null,
   "metadata": {},
   "outputs": [],
   "source": []
  }
 ],
 "metadata": {
  "kernelspec": {
   "display_name": "Python 3",
   "language": "python",
   "name": "python3"
  },
  "language_info": {
   "codemirror_mode": {
    "name": "ipython",
    "version": 3
   },
   "file_extension": ".py",
   "mimetype": "text/x-python",
   "name": "python",
   "nbconvert_exporter": "python",
   "pygments_lexer": "ipython3",
   "version": "3.6.5"
  }
 },
 "nbformat": 4,
 "nbformat_minor": 2
}
