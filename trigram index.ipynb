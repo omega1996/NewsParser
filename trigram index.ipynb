{
 "cells": [
  {
   "cell_type": "code",
   "execution_count": 1,
   "metadata": {},
   "outputs": [],
   "source": [
    "import pandas as pd\n",
    "from collections import defaultdict\n",
    "import tqdm\n",
    "from nltk import ngrams\n"
   ]
  },
  {
   "cell_type": "code",
   "execution_count": 2,
   "metadata": {},
   "outputs": [],
   "source": [
    "df1 = pd.read_csv('24.csv')"
   ]
  },
  {
   "cell_type": "code",
   "execution_count": 3,
   "metadata": {},
   "outputs": [],
   "source": [
    "df2 =pd.read_csv('lenta.csv')"
   ]
  },
  {
   "cell_type": "code",
   "execution_count": 4,
   "metadata": {},
   "outputs": [],
   "source": [
    "df3 = pd.read_csv('vesti.csv')"
   ]
  },
  {
   "cell_type": "code",
   "execution_count": 5,
   "metadata": {},
   "outputs": [],
   "source": [
    "from stringdist import rdlevenshtein"
   ]
  },
  {
   "cell_type": "code",
   "execution_count": 6,
   "metadata": {},
   "outputs": [],
   "source": [
    "df = pd.concat([df1,df2,df3])"
   ]
  },
  {
   "cell_type": "code",
   "execution_count": 7,
   "metadata": {},
   "outputs": [],
   "source": [
    "bow = []\n",
    "bow.extend(df.text.apply(lambda x: str(x).replace(',',' ').replace('.','').lower().split(' ')))"
   ]
  },
  {
   "cell_type": "code",
   "execution_count": 8,
   "metadata": {},
   "outputs": [],
   "source": [
    "bowlist = []\n",
    "for i in bow:\n",
    "    bowlist.extend(i)"
   ]
  },
  {
   "cell_type": "code",
   "execution_count": 20,
   "metadata": {},
   "outputs": [
    {
     "data": {
      "application/vnd.jupyter.widget-view+json": {
       "model_id": "c0227dcb8b1f42efb1398c3c9c1a6b03",
       "version_major": 2,
       "version_minor": 0
      },
      "text/plain": [
       "HBox(children=(IntProgress(value=0, max=2385672), HTML(value='')))"
      ]
     },
     "metadata": {},
     "output_type": "display_data"
    }
   ],
   "source": [
    "dictionary = defaultdict(lambda: 0)\n",
    "tri_dictionary = defaultdict(lambda:[])\n",
    "for i in tqdm.tqdm_notebook(bowlist):\n",
    "    dictionary[i] +=1\n",
    "    trigrams = ngrams('__'+i+'__',3)\n",
    "    for k in trigrams:\n",
    "        gram = ''.join(k)\n",
    "        tri_dictionary[gram].append(i)"
   ]
  },
  {
   "cell_type": "code",
   "execution_count": 25,
   "metadata": {},
   "outputs": [],
   "source": [
    "def getkey(key):\n",
    "    return key[0]"
   ]
  },
  {
   "cell_type": "code",
   "execution_count": 36,
   "metadata": {},
   "outputs": [],
   "source": [
    "def spell_check(string):\n",
    "    answer = []\n",
    "    for i in tqdm.tqdm_notebook(dictionary.items()):\n",
    "        answer.append((rdlevenshtein(i[0],string), i[0],i[1]))\n",
    "    return answer\n",
    "    \n",
    "def tri_spell_check(string):\n",
    "    checklist = []\n",
    "    answer = []\n",
    "    trigrams = ngrams('__'+string+'__',3)\n",
    "    for k in trigrams:\n",
    "        gram = ''.join(k)\n",
    "        checklist.extend(tri_dictionary[gram])\n",
    "    checklist = list(set(checklist))\n",
    "    for i in tqdm.tqdm_notebook(checklist):\n",
    "        answer.append((rdlevenshtein(i,string),i))\n",
    "    return answer"
   ]
  },
  {
   "cell_type": "code",
   "execution_count": 31,
   "metadata": {},
   "outputs": [
    {
     "data": {
      "application/vnd.jupyter.widget-view+json": {
       "model_id": "d0893332335d4ed3a6799b69290a7f8f",
       "version_major": 2,
       "version_minor": 0
      },
      "text/plain": [
       "HBox(children=(IntProgress(value=0, max=165304), HTML(value='')))"
      ]
     },
     "metadata": {},
     "output_type": "display_data"
    },
    {
     "data": {
      "text/plain": [
       "[(1, 'президент', 1226),\n",
       " (2, 'президента', 1969),\n",
       " (2, 'президенты', 67),\n",
       " (2, 'президенту', 121),\n",
       " (2, 'президенте', 29),\n",
       " (2, 'резидент', 3),\n",
       " (2, '(резидент', 5),\n",
       " (2, 'президентв', 2),\n",
       " (2, '[президент', 3),\n",
       " (3, 'приведет', 668)]"
      ]
     },
     "execution_count": 31,
     "metadata": {},
     "output_type": "execute_result"
    }
   ],
   "source": [
    "answer = spell_check('призидент')\n",
    "sorted(answer,key = getkey)[0:10]"
   ]
  },
  {
   "cell_type": "code",
   "execution_count": 37,
   "metadata": {},
   "outputs": [
    {
     "data": {
      "application/vnd.jupyter.widget-view+json": {
       "model_id": "a5c088e6edd24a399cef31156dda8d3b",
       "version_major": 2,
       "version_minor": 0
      },
      "text/plain": [
       "HBox(children=(IntProgress(value=0, max=29241), HTML(value='')))"
      ]
     },
     "metadata": {},
     "output_type": "display_data"
    },
    {
     "data": {
      "text/plain": [
       "[(1, 'президент'),\n",
       " (2, 'президента'),\n",
       " (2, 'президентв'),\n",
       " (2, '[президент'),\n",
       " (2, '(резидент'),\n",
       " (2, 'президенте'),\n",
       " (2, 'президенты'),\n",
       " (2, 'президенту'),\n",
       " (2, 'резидент'),\n",
       " (3, '[президенту')]"
      ]
     },
     "execution_count": 37,
     "metadata": {},
     "output_type": "execute_result"
    }
   ],
   "source": [
    "answer = tri_spell_check('призидент')\n",
    "sorted(answer,key = getkey)[0:10]"
   ]
  },
  {
   "cell_type": "code",
   "execution_count": 38,
   "metadata": {},
   "outputs": [
    {
     "name": "stderr",
     "output_type": "stream",
     "text": [
      "Fatal: HttpRequestException encountered.\n",
      "bash: /dev/tty: No such device or address\n",
      "error: failed to execute prompt script (exit code 1)\n",
      "fatal: could not read Username for 'https://github.com': Invalid argument\n"
     ]
    }
   ],
   "source": [
    "!git push"
   ]
  },
  {
   "cell_type": "code",
   "execution_count": null,
   "metadata": {},
   "outputs": [],
   "source": []
  }
 ],
 "metadata": {
  "kernelspec": {
   "display_name": "Python 3",
   "language": "python",
   "name": "python3"
  },
  "language_info": {
   "codemirror_mode": {
    "name": "ipython",
    "version": 3
   },
   "file_extension": ".py",
   "mimetype": "text/x-python",
   "name": "python",
   "nbconvert_exporter": "python",
   "pygments_lexer": "ipython3",
   "version": "3.6.5"
  }
 },
 "nbformat": 4,
 "nbformat_minor": 2
}
