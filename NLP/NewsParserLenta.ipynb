{
 "cells": [
  {
   "cell_type": "code",
   "execution_count": 1,
   "metadata": {},
   "outputs": [],
   "source": [
    "from bs4 import BeautifulSoup\n",
    "import requests\n",
    "import datetime\n",
    "import pandas\n",
    "import tqdm\n"
   ]
  },
  {
   "cell_type": "markdown",
   "metadata": {},
   "source": [
    "## дата источник(урл) название текст"
   ]
  },
  {
   "cell_type": "code",
   "execution_count": 2,
   "metadata": {},
   "outputs": [],
   "source": [
    "def get_date(num):\n",
    "    days = []\n",
    "    for i in range(num)[1:]:\n",
    "        days.append( str((datetime.date.today()-datetime.timedelta(days=i))).replace('-','/') )\n",
    "    return days"
   ]
  },
  {
   "cell_type": "code",
   "execution_count": 4,
   "metadata": {},
   "outputs": [],
   "source": [
    "def get_titles(data):\n",
    "    r = requests.get('https://lenta.ru/'+data) #'/2019/05/19' формат\n",
    "    soup = BeautifulSoup(r.content)\n",
    "    title = [(i.a['href'], i.a.span.text.replace('\\xa0', ' ')) for i in soup.find_all('div', {\"class\":\"titles\"})]\n",
    "    return title"
   ]
  },
  {
   "cell_type": "code",
   "execution_count": 11,
   "metadata": {},
   "outputs": [],
   "source": [
    "def get_text(url):\n",
    "    try:\n",
    "        rq = requests.get('https://lenta.ru'+url)\n",
    "        soup_new = BeautifulSoup(rq.content)\n",
    "        text = ''.join([i.text for i in soup_new.find_all('p')])\n",
    "        return text\n",
    "    except:\n",
    "        print('error')\n",
    "        return 'None'\n"
   ]
  },
  {
   "cell_type": "code",
   "execution_count": 3,
   "metadata": {},
   "outputs": [],
   "source": [
    "def writer(name,num):\n",
    "    df = pandas.DataFrame(columns=[\"date\",\"url\",\"title\",\"text\"])\n",
    "    for date in tqdm.tqdm_notebook(get_date(num)):\n",
    "        for i in tqdm.tqdm_notebook(get_titles(date)):\n",
    "            txt = get_text(i[0])\n",
    "            dct = {\"date\": date, \n",
    "                   \"url\": 'https://lenta.ru'+i[0],\n",
    "                   \"title\": i[1],\n",
    "                   \"text\": txt}\n",
    "            df = df.append(dct, ignore_index=True)\n",
    "    df.to_csv(name)\n",
    "    return df"
   ]
  },
  {
   "cell_type": "code",
   "execution_count": 12,
   "metadata": {},
   "outputs": [
    {
     "data": {
      "application/vnd.jupyter.widget-view+json": {
       "model_id": "7f102c8f2a194665ac50666c295bfe34",
       "version_major": 2,
       "version_minor": 0
      },
      "text/plain": [
       "HBox(children=(IntProgress(value=0, max=29), HTML(value='')))"
      ]
     },
     "metadata": {},
     "output_type": "display_data"
    },
    {
     "data": {
      "application/vnd.jupyter.widget-view+json": {
       "model_id": "9750264c971443158b63272de1f3b9c2",
       "version_major": 2,
       "version_minor": 0
      },
      "text/plain": [
       "HBox(children=(IntProgress(value=0, max=82), HTML(value='')))"
      ]
     },
     "metadata": {},
     "output_type": "display_data"
    },
    {
     "data": {
      "application/vnd.jupyter.widget-view+json": {
       "model_id": "d5ea977036304435b46b52e01e2c35d4",
       "version_major": 2,
       "version_minor": 0
      },
      "text/plain": [
       "HBox(children=(IntProgress(value=0, max=80), HTML(value='')))"
      ]
     },
     "metadata": {},
     "output_type": "display_data"
    },
    {
     "data": {
      "application/vnd.jupyter.widget-view+json": {
       "model_id": "6650e8084b234d8cbfb2108af2680718",
       "version_major": 2,
       "version_minor": 0
      },
      "text/plain": [
       "HBox(children=(IntProgress(value=0, max=223), HTML(value='')))"
      ]
     },
     "metadata": {},
     "output_type": "display_data"
    },
    {
     "name": "stdout",
     "output_type": "stream",
     "text": [
      "error\n"
     ]
    },
    {
     "data": {
      "application/vnd.jupyter.widget-view+json": {
       "model_id": "8d661f63ac344fb3b61aa931cc320bce",
       "version_major": 2,
       "version_minor": 0
      },
      "text/plain": [
       "HBox(children=(IntProgress(value=0, max=231), HTML(value='')))"
      ]
     },
     "metadata": {},
     "output_type": "display_data"
    },
    {
     "data": {
      "application/vnd.jupyter.widget-view+json": {
       "model_id": "198293048bd1402fabc8e2904b0905a2",
       "version_major": 2,
       "version_minor": 0
      },
      "text/plain": [
       "HBox(children=(IntProgress(value=0, max=223), HTML(value='')))"
      ]
     },
     "metadata": {},
     "output_type": "display_data"
    },
    {
     "data": {
      "application/vnd.jupyter.widget-view+json": {
       "model_id": "f14407963ceb4da5872125a5dbf99050",
       "version_major": 2,
       "version_minor": 0
      },
      "text/plain": [
       "HBox(children=(IntProgress(value=0, max=228), HTML(value='')))"
      ]
     },
     "metadata": {},
     "output_type": "display_data"
    },
    {
     "data": {
      "application/vnd.jupyter.widget-view+json": {
       "model_id": "e8417ad9256d48828dc63945b3a8a99f",
       "version_major": 2,
       "version_minor": 0
      },
      "text/plain": [
       "HBox(children=(IntProgress(value=0, max=213), HTML(value='')))"
      ]
     },
     "metadata": {},
     "output_type": "display_data"
    },
    {
     "data": {
      "application/vnd.jupyter.widget-view+json": {
       "model_id": "5d4a46b13b414aa28d8df090018e73c4",
       "version_major": 2,
       "version_minor": 0
      },
      "text/plain": [
       "HBox(children=(IntProgress(value=0, max=74), HTML(value='')))"
      ]
     },
     "metadata": {},
     "output_type": "display_data"
    },
    {
     "data": {
      "application/vnd.jupyter.widget-view+json": {
       "model_id": "7609b4d5912b410498aa821e8b834c1b",
       "version_major": 2,
       "version_minor": 0
      },
      "text/plain": [
       "HBox(children=(IntProgress(value=0, max=72), HTML(value='')))"
      ]
     },
     "metadata": {},
     "output_type": "display_data"
    },
    {
     "data": {
      "application/vnd.jupyter.widget-view+json": {
       "model_id": "23d6625abbde4ff9b094c08f0ae2e984",
       "version_major": 2,
       "version_minor": 0
      },
      "text/plain": [
       "HBox(children=(IntProgress(value=0, max=75), HTML(value='')))"
      ]
     },
     "metadata": {},
     "output_type": "display_data"
    },
    {
     "data": {
      "application/vnd.jupyter.widget-view+json": {
       "model_id": "575f7793f4a04a4da05e3aca37b9c7e9",
       "version_major": 2,
       "version_minor": 0
      },
      "text/plain": [
       "HBox(children=(IntProgress(value=0, max=86), HTML(value='')))"
      ]
     },
     "metadata": {},
     "output_type": "display_data"
    },
    {
     "data": {
      "application/vnd.jupyter.widget-view+json": {
       "model_id": "c066063cfc7f4792afdff8e25228bbe8",
       "version_major": 2,
       "version_minor": 0
      },
      "text/plain": [
       "HBox(children=(IntProgress(value=0, max=222), HTML(value='')))"
      ]
     },
     "metadata": {},
     "output_type": "display_data"
    },
    {
     "name": "stdout",
     "output_type": "stream",
     "text": [
      "error\n"
     ]
    },
    {
     "data": {
      "application/vnd.jupyter.widget-view+json": {
       "model_id": "ace38ca563314bc3b13a2a9b5897d64f",
       "version_major": 2,
       "version_minor": 0
      },
      "text/plain": [
       "HBox(children=(IntProgress(value=0, max=214), HTML(value='')))"
      ]
     },
     "metadata": {},
     "output_type": "display_data"
    },
    {
     "data": {
      "application/vnd.jupyter.widget-view+json": {
       "model_id": "94289ece155646beb9bd8fed6bf4eca8",
       "version_major": 2,
       "version_minor": 0
      },
      "text/plain": [
       "HBox(children=(IntProgress(value=0, max=208), HTML(value='')))"
      ]
     },
     "metadata": {},
     "output_type": "display_data"
    },
    {
     "data": {
      "application/vnd.jupyter.widget-view+json": {
       "model_id": "5ec58424decb4ef3a05e2287d9c9fd4b",
       "version_major": 2,
       "version_minor": 0
      },
      "text/plain": [
       "HBox(children=(IntProgress(value=0, max=86), HTML(value='')))"
      ]
     },
     "metadata": {},
     "output_type": "display_data"
    },
    {
     "data": {
      "application/vnd.jupyter.widget-view+json": {
       "model_id": "be12666a4fd549069d6004853b0bb7fc",
       "version_major": 2,
       "version_minor": 0
      },
      "text/plain": [
       "HBox(children=(IntProgress(value=0, max=75), HTML(value='')))"
      ]
     },
     "metadata": {},
     "output_type": "display_data"
    },
    {
     "data": {
      "application/vnd.jupyter.widget-view+json": {
       "model_id": "e575f2f613a74791be25af4dbf3f473a",
       "version_major": 2,
       "version_minor": 0
      },
      "text/plain": [
       "HBox(children=(IntProgress(value=0, max=67), HTML(value='')))"
      ]
     },
     "metadata": {},
     "output_type": "display_data"
    },
    {
     "data": {
      "application/vnd.jupyter.widget-view+json": {
       "model_id": "03accb94272942b99e8c0622acfe79f0",
       "version_major": 2,
       "version_minor": 0
      },
      "text/plain": [
       "HBox(children=(IntProgress(value=0, max=80), HTML(value='')))"
      ]
     },
     "metadata": {},
     "output_type": "display_data"
    },
    {
     "data": {
      "application/vnd.jupyter.widget-view+json": {
       "model_id": "b1f7717d55064046bd27c29574cb5b1b",
       "version_major": 2,
       "version_minor": 0
      },
      "text/plain": [
       "HBox(children=(IntProgress(value=0, max=85), HTML(value='')))"
      ]
     },
     "metadata": {},
     "output_type": "display_data"
    },
    {
     "data": {
      "application/vnd.jupyter.widget-view+json": {
       "model_id": "bd0af553b7114b9e8564eba31a189c15",
       "version_major": 2,
       "version_minor": 0
      },
      "text/plain": [
       "HBox(children=(IntProgress(value=0, max=213), HTML(value='')))"
      ]
     },
     "metadata": {},
     "output_type": "display_data"
    },
    {
     "name": "stdout",
     "output_type": "stream",
     "text": [
      "error\n"
     ]
    },
    {
     "data": {
      "application/vnd.jupyter.widget-view+json": {
       "model_id": "21d09fc0222540ec85a80ed774b9f0b9",
       "version_major": 2,
       "version_minor": 0
      },
      "text/plain": [
       "HBox(children=(IntProgress(value=0, max=191), HTML(value='')))"
      ]
     },
     "metadata": {},
     "output_type": "display_data"
    },
    {
     "data": {
      "application/vnd.jupyter.widget-view+json": {
       "model_id": "1092bd0977b649e3bee667d4a619b9c8",
       "version_major": 2,
       "version_minor": 0
      },
      "text/plain": [
       "HBox(children=(IntProgress(value=0, max=73), HTML(value='')))"
      ]
     },
     "metadata": {},
     "output_type": "display_data"
    },
    {
     "data": {
      "application/vnd.jupyter.widget-view+json": {
       "model_id": "eeac4b56cac34b988c211d3bbdb3fc55",
       "version_major": 2,
       "version_minor": 0
      },
      "text/plain": [
       "HBox(children=(IntProgress(value=0, max=68), HTML(value='')))"
      ]
     },
     "metadata": {},
     "output_type": "display_data"
    },
    {
     "data": {
      "application/vnd.jupyter.widget-view+json": {
       "model_id": "8ee9ad152ee9483caeb6ecb6bcedcaf8",
       "version_major": 2,
       "version_minor": 0
      },
      "text/plain": [
       "HBox(children=(IntProgress(value=0, max=196), HTML(value='')))"
      ]
     },
     "metadata": {},
     "output_type": "display_data"
    },
    {
     "data": {
      "application/vnd.jupyter.widget-view+json": {
       "model_id": "287fb5443c69429b84a30408c9f64594",
       "version_major": 2,
       "version_minor": 0
      },
      "text/plain": [
       "HBox(children=(IntProgress(value=0, max=232), HTML(value='')))"
      ]
     },
     "metadata": {},
     "output_type": "display_data"
    },
    {
     "name": "stdout",
     "output_type": "stream",
     "text": [
      "error\n"
     ]
    },
    {
     "data": {
      "application/vnd.jupyter.widget-view+json": {
       "model_id": "e4b469e888cc4839a388956ffea4860f",
       "version_major": 2,
       "version_minor": 0
      },
      "text/plain": [
       "HBox(children=(IntProgress(value=0, max=246), HTML(value='')))"
      ]
     },
     "metadata": {},
     "output_type": "display_data"
    },
    {
     "data": {
      "application/vnd.jupyter.widget-view+json": {
       "model_id": "fd86b73b28c44b338ca0510bf31fd7d2",
       "version_major": 2,
       "version_minor": 0
      },
      "text/plain": [
       "HBox(children=(IntProgress(value=0, max=232), HTML(value='')))"
      ]
     },
     "metadata": {},
     "output_type": "display_data"
    },
    {
     "data": {
      "application/vnd.jupyter.widget-view+json": {
       "model_id": "dc982eb1d00440248266fe5ad92c526d",
       "version_major": 2,
       "version_minor": 0
      },
      "text/plain": [
       "HBox(children=(IntProgress(value=0, max=214), HTML(value='')))"
      ]
     },
     "metadata": {},
     "output_type": "display_data"
    },
    {
     "data": {
      "application/vnd.jupyter.widget-view+json": {
       "model_id": "6879858f90284896a29fb4e3243f0bf5",
       "version_major": 2,
       "version_minor": 0
      },
      "text/plain": [
       "HBox(children=(IntProgress(value=0, max=86), HTML(value='')))"
      ]
     },
     "metadata": {},
     "output_type": "display_data"
    }
   ],
   "source": [
    "df = writer('file.csv',30)"
   ]
  },
  {
   "cell_type": "code",
   "execution_count": 110,
   "metadata": {},
   "outputs": [
    {
     "data": {
      "text/html": [
       "<div>\n",
       "<style scoped>\n",
       "    .dataframe tbody tr th:only-of-type {\n",
       "        vertical-align: middle;\n",
       "    }\n",
       "\n",
       "    .dataframe tbody tr th {\n",
       "        vertical-align: top;\n",
       "    }\n",
       "\n",
       "    .dataframe thead th {\n",
       "        text-align: right;\n",
       "    }\n",
       "</style>\n",
       "<table border=\"1\" class=\"dataframe\">\n",
       "  <thead>\n",
       "    <tr style=\"text-align: right;\">\n",
       "      <th></th>\n",
       "      <th>date</th>\n",
       "      <th>url</th>\n",
       "      <th>title</th>\n",
       "      <th>text</th>\n",
       "    </tr>\n",
       "  </thead>\n",
       "  <tbody>\n",
       "    <tr>\n",
       "      <th>0</th>\n",
       "      <td>2019/05/19</td>\n",
       "      <td>/articles/2019/05/19/postpartumdepression/</td>\n",
       "      <td>«Я не должна была рожать ребенка»</td>\n",
       "      <td>В России не принято широко обсуждать тему посл...</td>\n",
       "    </tr>\n",
       "    <tr>\n",
       "      <th>1</th>\n",
       "      <td>2019/05/19</td>\n",
       "      <td>/articles/2019/05/20/vvz/</td>\n",
       "      <td>Мелкий Бесо</td>\n",
       "      <td>Страсти в криминальном мире России в очередной...</td>\n",
       "    </tr>\n",
       "    <tr>\n",
       "      <th>2</th>\n",
       "      <td>2019/05/19</td>\n",
       "      <td>/articles/2019/05/19/hiroshima/</td>\n",
       "      <td>Адское пекло</td>\n",
       "      <td>Американские ученые обнаружили неожиданные сле...</td>\n",
       "    </tr>\n",
       "    <tr>\n",
       "      <th>3</th>\n",
       "      <td>2019/05/19</td>\n",
       "      <td>/photo/2019/05/19/murzilka/</td>\n",
       "      <td>Враг хулиганов и друг детей</td>\n",
       "      <td>Детскому журналу «Мурзилка» исполнилось 95 лет...</td>\n",
       "    </tr>\n",
       "    <tr>\n",
       "      <th>4</th>\n",
       "      <td>2019/05/19</td>\n",
       "      <td>/articles/2019/05/19/murakami/</td>\n",
       "      <td>«Я стал чураться женщин с пышной грудью»</td>\n",
       "      <td>27 мая впервые на русском языке выходит новый ...</td>\n",
       "    </tr>\n",
       "    <tr>\n",
       "      <th>5</th>\n",
       "      <td>2019/05/19</td>\n",
       "      <td>/articles/2019/05/19/scandiparty/</td>\n",
       "      <td>«Пьяный секс здесь приводит к серьезным отноше...</td>\n",
       "      <td>«Лента.ру» продолжает рассказывать о том, как ...</td>\n",
       "    </tr>\n",
       "    <tr>\n",
       "      <th>6</th>\n",
       "      <td>2019/05/19</td>\n",
       "      <td>/news/2019/05/19/ssj100_everybody/</td>\n",
       "      <td>Все пассажиры рейса в Москву отказались от пол...</td>\n",
       "      <td>Самолет Sukhoi Superjet 100 (SSJ-100) «Аэрофло...</td>\n",
       "    </tr>\n",
       "    <tr>\n",
       "      <th>7</th>\n",
       "      <td>2019/05/19</td>\n",
       "      <td>/news/2019/05/19/estonia/</td>\n",
       "      <td>Россию заподозрили в подготовке вооруженного к...</td>\n",
       "      <td>Министр обороны Эстонии Юри Луйк заявил о подг...</td>\n",
       "    </tr>\n",
       "    <tr>\n",
       "      <th>8</th>\n",
       "      <td>2019/05/19</td>\n",
       "      <td>/news/2019/05/19/lazarev_reaction/</td>\n",
       "      <td>Лазарев отреагировал на отстранение жюри Белор...</td>\n",
       "      <td>Певец Сергей Лазарев, представляющий Россию на...</td>\n",
       "    </tr>\n",
       "    <tr>\n",
       "      <th>9</th>\n",
       "      <td>2019/05/19</td>\n",
       "      <td>/news/2019/05/19/novotes/</td>\n",
       "      <td>Белоруссия проигнорировала Россию на «Евровиде...</td>\n",
       "      <td>Белоруссия проголосовала на международном вока...</td>\n",
       "    </tr>\n",
       "    <tr>\n",
       "      <th>10</th>\n",
       "      <td>2019/05/19</td>\n",
       "      <td>/news/2019/05/19/eurowinner/</td>\n",
       "      <td>На «Евровидении» победили Нидерланды</td>\n",
       "      <td>Победителем международного вокального конкурса...</td>\n",
       "    </tr>\n",
       "    <tr>\n",
       "      <th>11</th>\n",
       "      <td>2019/05/19</td>\n",
       "      <td>/news/2019/05/19/third/</td>\n",
       "      <td>Россия заняла третье место на «Евровидении»</td>\n",
       "      <td>Певец Сергей Лазарев, представлявший Россию на...</td>\n",
       "    </tr>\n",
       "    <tr>\n",
       "      <th>12</th>\n",
       "      <td>2019/05/19</td>\n",
       "      <td>/news/2019/05/19/games_of_thrones/</td>\n",
       "      <td>Более миллиона фанатов потребовали переснять в...</td>\n",
       "      <td>Более миллиона поклонников сериала «Игра прест...</td>\n",
       "    </tr>\n",
       "    <tr>\n",
       "      <th>13</th>\n",
       "      <td>2019/05/19</td>\n",
       "      <td>/news/2019/05/19/den_batka/</td>\n",
       "      <td>Порошенко учредил День отца</td>\n",
       "      <td>Действующий президент Украины Петр Порошенко у...</td>\n",
       "    </tr>\n",
       "    <tr>\n",
       "      <th>14</th>\n",
       "      <td>2019/05/19</td>\n",
       "      <td>/articles/2019/05/19/eurodamn/</td>\n",
       "      <td>Хватит это смотреть</td>\n",
       "      <td>В Тель-Авиве завершился 64‑й музыкальный конку...</td>\n",
       "    </tr>\n",
       "    <tr>\n",
       "      <th>15</th>\n",
       "      <td>2019/05/19</td>\n",
       "      <td>/news/2019/05/19/c_500/</td>\n",
       "      <td>Турция задумалась о совместном с Россией произ...</td>\n",
       "      <td>Президент Турции Реджеп Тайип Эрдоган заявил о...</td>\n",
       "    </tr>\n",
       "    <tr>\n",
       "      <th>16</th>\n",
       "      <td>2019/05/19</td>\n",
       "      <td>/news/2019/05/19/lazarev_ready/</td>\n",
       "      <td>Лазарев приготовился поехать на «Евровидение» ...</td>\n",
       "      <td>Певец Сергей Лазарев, занявший третье место на...</td>\n",
       "    </tr>\n",
       "    <tr>\n",
       "      <th>17</th>\n",
       "      <td>2019/05/19</td>\n",
       "      <td>/news/2019/05/19/hiv/</td>\n",
       "      <td>В России отчитались о первой победе над распро...</td>\n",
       "      <td>В России удалось остановить распространение ВИ...</td>\n",
       "    </tr>\n",
       "    <tr>\n",
       "      <th>18</th>\n",
       "      <td>2019/05/19</td>\n",
       "      <td>/news/2019/05/19/duncan_laurence/</td>\n",
       "      <td>Победитель «Евровидения» раскрыл причины победы</td>\n",
       "      <td>Победитель «Евровидения-2019» Дункан Лоуренс, ...</td>\n",
       "    </tr>\n",
       "    <tr>\n",
       "      <th>19</th>\n",
       "      <td>2019/05/19</td>\n",
       "      <td>/news/2019/05/19/the_oldest/</td>\n",
       "      <td>Умер мужчина из старейшей в мире супружеской пары</td>\n",
       "      <td>В Японии скончался мужчина из старейшей в мире...</td>\n",
       "    </tr>\n",
       "    <tr>\n",
       "      <th>20</th>\n",
       "      <td>2019/05/19</td>\n",
       "      <td>/news/2019/05/19/warning/</td>\n",
       "      <td>Зеленского отговорили от заигрываний с Москвой</td>\n",
       "      <td>Избранному президенту Украины Владимиру Зеленс...</td>\n",
       "    </tr>\n",
       "    <tr>\n",
       "      <th>21</th>\n",
       "      <td>2019/05/19</td>\n",
       "      <td>/news/2019/05/19/israel/</td>\n",
       "      <td>В Израиле обрушились на «Евровидение» из-за на...</td>\n",
       "      <td>В Иерусалиме сотни ортодоксальных представител...</td>\n",
       "    </tr>\n",
       "    <tr>\n",
       "      <th>22</th>\n",
       "      <td>2019/05/19</td>\n",
       "      <td>/news/2019/05/19/lazarev_jury/</td>\n",
       "      <td>Лазарев уличил жюри «Евровидения» в предвзятом...</td>\n",
       "      <td>Певец Сергей Лазарев, занявший третье место на...</td>\n",
       "    </tr>\n",
       "    <tr>\n",
       "      <th>23</th>\n",
       "      <td>2019/05/19</td>\n",
       "      <td>/news/2019/05/19/flag/</td>\n",
       "      <td>В прямом эфире «Евровидения» в Израиле подняли...</td>\n",
       "      <td>В прямом эфире финала музыкального конкурса «Е...</td>\n",
       "    </tr>\n",
       "    <tr>\n",
       "      <th>24</th>\n",
       "      <td>2019/05/19</td>\n",
       "      <td>/news/2019/05/19/airbus/</td>\n",
       "      <td>Отказавшиеся лететь на SSJ-100 пассажиры перес...</td>\n",
       "      <td>Пассажиры самолета Sukhoi Superjet 100 (SSJ-10...</td>\n",
       "    </tr>\n",
       "    <tr>\n",
       "      <th>25</th>\n",
       "      <td>2019/05/19</td>\n",
       "      <td>/news/2019/05/19/80mlrd/</td>\n",
       "      <td>Оценены потери Украины из-за сокращения торгов...</td>\n",
       "      <td>Украина потеряла около 80 миллиардов долларов ...</td>\n",
       "    </tr>\n",
       "    <tr>\n",
       "      <th>26</th>\n",
       "      <td>2019/05/19</td>\n",
       "      <td>/news/2019/05/19/sammit/</td>\n",
       "      <td>Король Саудовской Аравии созвал экстренную вст...</td>\n",
       "      <td>Король Саудовской Аравии Салман бен Абдель Ази...</td>\n",
       "    </tr>\n",
       "    <tr>\n",
       "      <th>27</th>\n",
       "      <td>2019/05/19</td>\n",
       "      <td>/news/2019/05/19/euroguest/</td>\n",
       "      <td>Сергей Лазарев раскрыл условия повторного учас...</td>\n",
       "      <td>Российский поп-исполнитель Сергей Лазарев боль...</td>\n",
       "    </tr>\n",
       "    <tr>\n",
       "      <th>28</th>\n",
       "      <td>2019/05/19</td>\n",
       "      <td>/news/2019/05/19/champion/</td>\n",
       "      <td>Боксер Уайлдер защитил титул чемпиона мира</td>\n",
       "      <td>Американский боксер Деонтей Уайлдер защитил ти...</td>\n",
       "    </tr>\n",
       "    <tr>\n",
       "      <th>29</th>\n",
       "      <td>2019/05/19</td>\n",
       "      <td>/sport/2019/05/19/hockey-avstriya-chehiya/</td>\n",
       "      <td>ЧМ-2019 — Австрия-Чехия — 2019-05-19 — 17:15</td>\n",
       "      <td></td>\n",
       "    </tr>\n",
       "    <tr>\n",
       "      <th>...</th>\n",
       "      <td>...</td>\n",
       "      <td>...</td>\n",
       "      <td>...</td>\n",
       "      <td>...</td>\n",
       "    </tr>\n",
       "    <tr>\n",
       "      <th>52</th>\n",
       "      <td>2019/05/19</td>\n",
       "      <td>/news/2019/05/19/beating/</td>\n",
       "      <td>Изгонявший бесов мужчина избил пенсионерку в м...</td>\n",
       "      <td>В московском храме князя Владимира в Старых Са...</td>\n",
       "    </tr>\n",
       "    <tr>\n",
       "      <th>53</th>\n",
       "      <td>2019/05/19</td>\n",
       "      <td>/news/2019/05/19/death_medal/</td>\n",
       "      <td>Стали известны подробности смерти российского ...</td>\n",
       "      <td>Стали известны подробности смерти российского ...</td>\n",
       "    </tr>\n",
       "    <tr>\n",
       "      <th>54</th>\n",
       "      <td>2019/05/19</td>\n",
       "      <td>/news/2019/05/19/egypt/</td>\n",
       "      <td>В Египте прогремел взрыв рядом с пирамидами</td>\n",
       "      <td>В Египте рядом с Большим национальным музеем в...</td>\n",
       "    </tr>\n",
       "    <tr>\n",
       "      <th>55</th>\n",
       "      <td>2019/05/19</td>\n",
       "      <td>/news/2019/05/19/selo/</td>\n",
       "      <td>Жителям сел пообещали новые банковские возможн...</td>\n",
       "      <td>Жители сел смогут совершать банковские операци...</td>\n",
       "    </tr>\n",
       "    <tr>\n",
       "      <th>56</th>\n",
       "      <td>2019/05/19</td>\n",
       "      <td>/news/2019/05/19/neft/</td>\n",
       "      <td>Москва и Минск согласовали план по транзиту нефти</td>\n",
       "      <td>Россия и Белоруссия согласовали план по возобн...</td>\n",
       "    </tr>\n",
       "    <tr>\n",
       "      <th>57</th>\n",
       "      <td>2019/05/19</td>\n",
       "      <td>/news/2019/05/19/pro/</td>\n",
       "      <td>Появилось видео с места взрыва в Египте</td>\n",
       "      <td>Появилось видео взрыва рядом с Большим национа...</td>\n",
       "    </tr>\n",
       "    <tr>\n",
       "      <th>58</th>\n",
       "      <td>2019/05/19</td>\n",
       "      <td>/news/2019/05/19/pase/</td>\n",
       "      <td>Президент Эстонии воспротивилась возвращению Р...</td>\n",
       "      <td>Президент Эстонии Керсти Кальюлайд раскритиков...</td>\n",
       "    </tr>\n",
       "    <tr>\n",
       "      <th>59</th>\n",
       "      <td>2019/05/19</td>\n",
       "      <td>/news/2019/05/19/contravention/</td>\n",
       "      <td>Победитель «Евровидения» нарушил главное прави...</td>\n",
       "      <td>Победитель «Евровидения» из Голландии Дункан Л...</td>\n",
       "    </tr>\n",
       "    <tr>\n",
       "      <th>60</th>\n",
       "      <td>2019/05/19</td>\n",
       "      <td>/news/2019/05/19/lazarscream/</td>\n",
       "      <td>Рудковская назвала причину проигрыша Лазарева ...</td>\n",
       "      <td>Музыкальный продюсер певца Димы Билана Яна Руд...</td>\n",
       "    </tr>\n",
       "    <tr>\n",
       "      <th>61</th>\n",
       "      <td>2019/05/19</td>\n",
       "      <td>/news/2019/05/19/yakubovich/</td>\n",
       "      <td>Видео с Якубовичем в Mortal Kombat заблокирова...</td>\n",
       "      <td>Видеоролик, на котором ведущего «Поля чудес» Л...</td>\n",
       "    </tr>\n",
       "    <tr>\n",
       "      <th>62</th>\n",
       "      <td>2019/05/19</td>\n",
       "      <td>/news/2019/05/19/draka/</td>\n",
       "      <td>Гонщики устроили драку после круга почета</td>\n",
       "      <td>Гонка Monster Energy в рамках NASCAR завершила...</td>\n",
       "    </tr>\n",
       "    <tr>\n",
       "      <th>63</th>\n",
       "      <td>2019/05/19</td>\n",
       "      <td>/news/2019/05/19/mina/</td>\n",
       "      <td>Россиянин «заминировал» Шереметьево из-за поте...</td>\n",
       "      <td>Житель Брянска сообщил о минировании аэропорта...</td>\n",
       "    </tr>\n",
       "    <tr>\n",
       "      <th>64</th>\n",
       "      <td>2019/05/19</td>\n",
       "      <td>/news/2019/05/19/dolya/</td>\n",
       "      <td>Поселиться в московской коммуналке предложили ...</td>\n",
       "      <td>В Москве выставили на продажу долю в многокомн...</td>\n",
       "    </tr>\n",
       "    <tr>\n",
       "      <th>65</th>\n",
       "      <td>2019/05/19</td>\n",
       "      <td>/news/2019/05/19/oligarhi/</td>\n",
       "      <td>Греф рассказал об отстранении олигархов от вла...</td>\n",
       "      <td>Власти России с 2000-х годов провели хирургиче...</td>\n",
       "    </tr>\n",
       "    <tr>\n",
       "      <th>66</th>\n",
       "      <td>2019/05/19</td>\n",
       "      <td>/news/2019/05/19/ne_mogu/</td>\n",
       "      <td>Порошенко решил остаться в политике и проследи...</td>\n",
       "      <td>Действующий президент Украины Петр Порошенко о...</td>\n",
       "    </tr>\n",
       "    <tr>\n",
       "      <th>67</th>\n",
       "      <td>2019/05/19</td>\n",
       "      <td>/news/2019/05/19/anjos/</td>\n",
       "      <td>Боец UFC «задушил» соперника</td>\n",
       "      <td>Бразильский боец UFC Рафаэль Дос Аньос одержал...</td>\n",
       "    </tr>\n",
       "    <tr>\n",
       "      <th>68</th>\n",
       "      <td>2019/05/19</td>\n",
       "      <td>/news/2019/05/19/etap/</td>\n",
       "      <td>Пашинян призвал заблокировать все армянские суды</td>\n",
       "      <td>Премьер-министр Армении Никол Пашинян анонсиро...</td>\n",
       "    </tr>\n",
       "    <tr>\n",
       "      <th>69</th>\n",
       "      <td>2019/05/19</td>\n",
       "      <td>/news/2019/05/19/plennik/</td>\n",
       "      <td>Зеленский поведал о борьбе за возвращение «пле...</td>\n",
       "      <td>Избранный президент Украины Владимир Зеленский...</td>\n",
       "    </tr>\n",
       "    <tr>\n",
       "      <th>70</th>\n",
       "      <td>2019/05/19</td>\n",
       "      <td>/news/2019/05/19/opravdanie/</td>\n",
       "      <td>Продюсер победителя «Евровидения» оправдался з...</td>\n",
       "      <td>Продюсер победителя «Евровидения» Дункана Лоур...</td>\n",
       "    </tr>\n",
       "    <tr>\n",
       "      <th>71</th>\n",
       "      <td>2019/05/19</td>\n",
       "      <td>/news/2019/05/19/rus_china/</td>\n",
       "      <td>В Хабаровске поймали похитивших миллиарды долл...</td>\n",
       "      <td>В аэропорту Хабаровска задержаны двое граждан ...</td>\n",
       "    </tr>\n",
       "    <tr>\n",
       "      <th>72</th>\n",
       "      <td>2019/05/19</td>\n",
       "      <td>/news/2019/05/19/netkotov/</td>\n",
       "      <td>«Переживающий» из-за сериала кот стал звездой ...</td>\n",
       "      <td>В сети набирает популярность кот, который «пер...</td>\n",
       "    </tr>\n",
       "    <tr>\n",
       "      <th>73</th>\n",
       "      <td>2019/05/19</td>\n",
       "      <td>/news/2019/05/19/v_sile/</td>\n",
       "      <td>Победителя «Евровидения» отказались наказывать...</td>\n",
       "      <td>Европейский вещательный союз (EBU) не станет а...</td>\n",
       "    </tr>\n",
       "    <tr>\n",
       "      <th>74</th>\n",
       "      <td>2019/05/19</td>\n",
       "      <td>/news/2019/05/19/poroshenkoregrets/</td>\n",
       "      <td>Порошенко назвал свой самый обидный провал за ...</td>\n",
       "      <td>Президент Украины Петр Порошенко заявил, что с...</td>\n",
       "    </tr>\n",
       "    <tr>\n",
       "      <th>75</th>\n",
       "      <td>2019/05/19</td>\n",
       "      <td>/news/2019/05/19/abortion_usa/</td>\n",
       "      <td>Трамп прокомментировал скандал с запретом абор...</td>\n",
       "      <td>Президент США Дональд Трамп прокомментировал с...</td>\n",
       "    </tr>\n",
       "    <tr>\n",
       "      <th>76</th>\n",
       "      <td>2019/05/19</td>\n",
       "      <td>/news/2019/05/19/bagdad/</td>\n",
       "      <td>Посольство США обстреляли в Багдаде</td>\n",
       "      <td>Реактивный снаряд взорвался в районе посольств...</td>\n",
       "    </tr>\n",
       "    <tr>\n",
       "      <th>77</th>\n",
       "      <td>2019/05/19</td>\n",
       "      <td>/brief/2019/05/19/euro/</td>\n",
       "      <td>Итоги «Евровидения» под вопросом из-за песни п...</td>\n",
       "      <td>Дункан Лоуренс выступил с песней, которая уже ...</td>\n",
       "    </tr>\n",
       "    <tr>\n",
       "      <th>78</th>\n",
       "      <td>2019/05/19</td>\n",
       "      <td>/news/2019/05/19/russian_team/</td>\n",
       "      <td>Российские хоккеисты одержали шестую победу по...</td>\n",
       "      <td>Сборная России по хоккею одержала победу над н...</td>\n",
       "    </tr>\n",
       "    <tr>\n",
       "      <th>79</th>\n",
       "      <td>2019/05/19</td>\n",
       "      <td>/news/2019/05/19/google_huawei/</td>\n",
       "      <td>Huawei лишится Android из-за Трампа</td>\n",
       "      <td>Google прекращает сотрудничество с китайским п...</td>\n",
       "    </tr>\n",
       "    <tr>\n",
       "      <th>80</th>\n",
       "      <td>2019/05/19</td>\n",
       "      <td>/news/2019/05/19/cska_champion/</td>\n",
       "      <td>ЦСКА выиграл баскетбольную Евролигу</td>\n",
       "      <td>Московский ЦСКА стал победителем «Финала четыр...</td>\n",
       "    </tr>\n",
       "    <tr>\n",
       "      <th>81</th>\n",
       "      <td>2019/05/19</td>\n",
       "      <td>/news/2019/05/19/turchinov/</td>\n",
       "      <td>Порошенко уволил Турчинова</td>\n",
       "      <td>Петр Порошенко подписал указ об увольнении сек...</td>\n",
       "    </tr>\n",
       "  </tbody>\n",
       "</table>\n",
       "<p>82 rows × 4 columns</p>\n",
       "</div>"
      ],
      "text/plain": [
       "          date                                         url  \\\n",
       "0   2019/05/19  /articles/2019/05/19/postpartumdepression/   \n",
       "1   2019/05/19                   /articles/2019/05/20/vvz/   \n",
       "2   2019/05/19             /articles/2019/05/19/hiroshima/   \n",
       "3   2019/05/19                 /photo/2019/05/19/murzilka/   \n",
       "4   2019/05/19              /articles/2019/05/19/murakami/   \n",
       "5   2019/05/19           /articles/2019/05/19/scandiparty/   \n",
       "6   2019/05/19          /news/2019/05/19/ssj100_everybody/   \n",
       "7   2019/05/19                   /news/2019/05/19/estonia/   \n",
       "8   2019/05/19          /news/2019/05/19/lazarev_reaction/   \n",
       "9   2019/05/19                   /news/2019/05/19/novotes/   \n",
       "10  2019/05/19                /news/2019/05/19/eurowinner/   \n",
       "11  2019/05/19                     /news/2019/05/19/third/   \n",
       "12  2019/05/19          /news/2019/05/19/games_of_thrones/   \n",
       "13  2019/05/19                 /news/2019/05/19/den_batka/   \n",
       "14  2019/05/19              /articles/2019/05/19/eurodamn/   \n",
       "15  2019/05/19                     /news/2019/05/19/c_500/   \n",
       "16  2019/05/19             /news/2019/05/19/lazarev_ready/   \n",
       "17  2019/05/19                       /news/2019/05/19/hiv/   \n",
       "18  2019/05/19           /news/2019/05/19/duncan_laurence/   \n",
       "19  2019/05/19                /news/2019/05/19/the_oldest/   \n",
       "20  2019/05/19                   /news/2019/05/19/warning/   \n",
       "21  2019/05/19                    /news/2019/05/19/israel/   \n",
       "22  2019/05/19              /news/2019/05/19/lazarev_jury/   \n",
       "23  2019/05/19                      /news/2019/05/19/flag/   \n",
       "24  2019/05/19                    /news/2019/05/19/airbus/   \n",
       "25  2019/05/19                    /news/2019/05/19/80mlrd/   \n",
       "26  2019/05/19                    /news/2019/05/19/sammit/   \n",
       "27  2019/05/19                 /news/2019/05/19/euroguest/   \n",
       "28  2019/05/19                  /news/2019/05/19/champion/   \n",
       "29  2019/05/19  /sport/2019/05/19/hockey-avstriya-chehiya/   \n",
       "..         ...                                         ...   \n",
       "52  2019/05/19                   /news/2019/05/19/beating/   \n",
       "53  2019/05/19               /news/2019/05/19/death_medal/   \n",
       "54  2019/05/19                     /news/2019/05/19/egypt/   \n",
       "55  2019/05/19                      /news/2019/05/19/selo/   \n",
       "56  2019/05/19                      /news/2019/05/19/neft/   \n",
       "57  2019/05/19                       /news/2019/05/19/pro/   \n",
       "58  2019/05/19                      /news/2019/05/19/pase/   \n",
       "59  2019/05/19             /news/2019/05/19/contravention/   \n",
       "60  2019/05/19               /news/2019/05/19/lazarscream/   \n",
       "61  2019/05/19                /news/2019/05/19/yakubovich/   \n",
       "62  2019/05/19                     /news/2019/05/19/draka/   \n",
       "63  2019/05/19                      /news/2019/05/19/mina/   \n",
       "64  2019/05/19                     /news/2019/05/19/dolya/   \n",
       "65  2019/05/19                  /news/2019/05/19/oligarhi/   \n",
       "66  2019/05/19                   /news/2019/05/19/ne_mogu/   \n",
       "67  2019/05/19                     /news/2019/05/19/anjos/   \n",
       "68  2019/05/19                      /news/2019/05/19/etap/   \n",
       "69  2019/05/19                   /news/2019/05/19/plennik/   \n",
       "70  2019/05/19                /news/2019/05/19/opravdanie/   \n",
       "71  2019/05/19                 /news/2019/05/19/rus_china/   \n",
       "72  2019/05/19                  /news/2019/05/19/netkotov/   \n",
       "73  2019/05/19                    /news/2019/05/19/v_sile/   \n",
       "74  2019/05/19         /news/2019/05/19/poroshenkoregrets/   \n",
       "75  2019/05/19              /news/2019/05/19/abortion_usa/   \n",
       "76  2019/05/19                    /news/2019/05/19/bagdad/   \n",
       "77  2019/05/19                     /brief/2019/05/19/euro/   \n",
       "78  2019/05/19              /news/2019/05/19/russian_team/   \n",
       "79  2019/05/19             /news/2019/05/19/google_huawei/   \n",
       "80  2019/05/19             /news/2019/05/19/cska_champion/   \n",
       "81  2019/05/19                 /news/2019/05/19/turchinov/   \n",
       "\n",
       "                                                title  \\\n",
       "0                   «Я не должна была рожать ребенка»   \n",
       "1                                         Мелкий Бесо   \n",
       "2                                        Адское пекло   \n",
       "3                         Враг хулиганов и друг детей   \n",
       "4            «Я стал чураться женщин с пышной грудью»   \n",
       "5   «Пьяный секс здесь приводит к серьезным отноше...   \n",
       "6   Все пассажиры рейса в Москву отказались от пол...   \n",
       "7   Россию заподозрили в подготовке вооруженного к...   \n",
       "8   Лазарев отреагировал на отстранение жюри Белор...   \n",
       "9   Белоруссия проигнорировала Россию на «Евровиде...   \n",
       "10               На «Евровидении» победили Нидерланды   \n",
       "11        Россия заняла третье место на «Евровидении»   \n",
       "12  Более миллиона фанатов потребовали переснять в...   \n",
       "13                        Порошенко учредил День отца   \n",
       "14                                Хватит это смотреть   \n",
       "15  Турция задумалась о совместном с Россией произ...   \n",
       "16  Лазарев приготовился поехать на «Евровидение» ...   \n",
       "17  В России отчитались о первой победе над распро...   \n",
       "18    Победитель «Евровидения» раскрыл причины победы   \n",
       "19  Умер мужчина из старейшей в мире супружеской пары   \n",
       "20     Зеленского отговорили от заигрываний с Москвой   \n",
       "21  В Израиле обрушились на «Евровидение» из-за на...   \n",
       "22  Лазарев уличил жюри «Евровидения» в предвзятом...   \n",
       "23  В прямом эфире «Евровидения» в Израиле подняли...   \n",
       "24  Отказавшиеся лететь на SSJ-100 пассажиры перес...   \n",
       "25  Оценены потери Украины из-за сокращения торгов...   \n",
       "26  Король Саудовской Аравии созвал экстренную вст...   \n",
       "27  Сергей Лазарев раскрыл условия повторного учас...   \n",
       "28         Боксер Уайлдер защитил титул чемпиона мира   \n",
       "29       ЧМ-2019 — Австрия-Чехия — 2019-05-19 — 17:15   \n",
       "..                                                ...   \n",
       "52  Изгонявший бесов мужчина избил пенсионерку в м...   \n",
       "53  Стали известны подробности смерти российского ...   \n",
       "54        В Египте прогремел взрыв рядом с пирамидами   \n",
       "55  Жителям сел пообещали новые банковские возможн...   \n",
       "56  Москва и Минск согласовали план по транзиту нефти   \n",
       "57            Появилось видео с места взрыва в Египте   \n",
       "58  Президент Эстонии воспротивилась возвращению Р...   \n",
       "59  Победитель «Евровидения» нарушил главное прави...   \n",
       "60  Рудковская назвала причину проигрыша Лазарева ...   \n",
       "61  Видео с Якубовичем в Mortal Kombat заблокирова...   \n",
       "62          Гонщики устроили драку после круга почета   \n",
       "63  Россиянин «заминировал» Шереметьево из-за поте...   \n",
       "64  Поселиться в московской коммуналке предложили ...   \n",
       "65  Греф рассказал об отстранении олигархов от вла...   \n",
       "66  Порошенко решил остаться в политике и проследи...   \n",
       "67                       Боец UFC «задушил» соперника   \n",
       "68   Пашинян призвал заблокировать все армянские суды   \n",
       "69  Зеленский поведал о борьбе за возвращение «пле...   \n",
       "70  Продюсер победителя «Евровидения» оправдался з...   \n",
       "71  В Хабаровске поймали похитивших миллиарды долл...   \n",
       "72  «Переживающий» из-за сериала кот стал звездой ...   \n",
       "73  Победителя «Евровидения» отказались наказывать...   \n",
       "74  Порошенко назвал свой самый обидный провал за ...   \n",
       "75  Трамп прокомментировал скандал с запретом абор...   \n",
       "76                Посольство США обстреляли в Багдаде   \n",
       "77  Итоги «Евровидения» под вопросом из-за песни п...   \n",
       "78  Российские хоккеисты одержали шестую победу по...   \n",
       "79                Huawei лишится Android из-за Трампа   \n",
       "80                ЦСКА выиграл баскетбольную Евролигу   \n",
       "81                         Порошенко уволил Турчинова   \n",
       "\n",
       "                                                 text  \n",
       "0   В России не принято широко обсуждать тему посл...  \n",
       "1   Страсти в криминальном мире России в очередной...  \n",
       "2   Американские ученые обнаружили неожиданные сле...  \n",
       "3   Детскому журналу «Мурзилка» исполнилось 95 лет...  \n",
       "4   27 мая впервые на русском языке выходит новый ...  \n",
       "5   «Лента.ру» продолжает рассказывать о том, как ...  \n",
       "6   Самолет Sukhoi Superjet 100 (SSJ-100) «Аэрофло...  \n",
       "7   Министр обороны Эстонии Юри Луйк заявил о подг...  \n",
       "8   Певец Сергей Лазарев, представляющий Россию на...  \n",
       "9   Белоруссия проголосовала на международном вока...  \n",
       "10  Победителем международного вокального конкурса...  \n",
       "11  Певец Сергей Лазарев, представлявший Россию на...  \n",
       "12  Более миллиона поклонников сериала «Игра прест...  \n",
       "13  Действующий президент Украины Петр Порошенко у...  \n",
       "14  В Тель-Авиве завершился 64‑й музыкальный конку...  \n",
       "15  Президент Турции Реджеп Тайип Эрдоган заявил о...  \n",
       "16  Певец Сергей Лазарев, занявший третье место на...  \n",
       "17  В России удалось остановить распространение ВИ...  \n",
       "18  Победитель «Евровидения-2019» Дункан Лоуренс, ...  \n",
       "19  В Японии скончался мужчина из старейшей в мире...  \n",
       "20  Избранному президенту Украины Владимиру Зеленс...  \n",
       "21  В Иерусалиме сотни ортодоксальных представител...  \n",
       "22  Певец Сергей Лазарев, занявший третье место на...  \n",
       "23  В прямом эфире финала музыкального конкурса «Е...  \n",
       "24  Пассажиры самолета Sukhoi Superjet 100 (SSJ-10...  \n",
       "25  Украина потеряла около 80 миллиардов долларов ...  \n",
       "26  Король Саудовской Аравии Салман бен Абдель Ази...  \n",
       "27  Российский поп-исполнитель Сергей Лазарев боль...  \n",
       "28  Американский боксер Деонтей Уайлдер защитил ти...  \n",
       "29                                                     \n",
       "..                                                ...  \n",
       "52  В московском храме князя Владимира в Старых Са...  \n",
       "53  Стали известны подробности смерти российского ...  \n",
       "54  В Египте рядом с Большим национальным музеем в...  \n",
       "55  Жители сел смогут совершать банковские операци...  \n",
       "56  Россия и Белоруссия согласовали план по возобн...  \n",
       "57  Появилось видео взрыва рядом с Большим национа...  \n",
       "58  Президент Эстонии Керсти Кальюлайд раскритиков...  \n",
       "59  Победитель «Евровидения» из Голландии Дункан Л...  \n",
       "60  Музыкальный продюсер певца Димы Билана Яна Руд...  \n",
       "61  Видеоролик, на котором ведущего «Поля чудес» Л...  \n",
       "62  Гонка Monster Energy в рамках NASCAR завершила...  \n",
       "63  Житель Брянска сообщил о минировании аэропорта...  \n",
       "64  В Москве выставили на продажу долю в многокомн...  \n",
       "65  Власти России с 2000-х годов провели хирургиче...  \n",
       "66  Действующий президент Украины Петр Порошенко о...  \n",
       "67  Бразильский боец UFC Рафаэль Дос Аньос одержал...  \n",
       "68  Премьер-министр Армении Никол Пашинян анонсиро...  \n",
       "69  Избранный президент Украины Владимир Зеленский...  \n",
       "70  Продюсер победителя «Евровидения» Дункана Лоур...  \n",
       "71  В аэропорту Хабаровска задержаны двое граждан ...  \n",
       "72  В сети набирает популярность кот, который «пер...  \n",
       "73  Европейский вещательный союз (EBU) не станет а...  \n",
       "74  Президент Украины Петр Порошенко заявил, что с...  \n",
       "75  Президент США Дональд Трамп прокомментировал с...  \n",
       "76  Реактивный снаряд взорвался в районе посольств...  \n",
       "77  Дункан Лоуренс выступил с песней, которая уже ...  \n",
       "78  Сборная России по хоккею одержала победу над н...  \n",
       "79  Google прекращает сотрудничество с китайским п...  \n",
       "80  Московский ЦСКА стал победителем «Финала четыр...  \n",
       "81  Петр Порошенко подписал указ об увольнении сек...  \n",
       "\n",
       "[82 rows x 4 columns]"
      ]
     },
     "execution_count": 110,
     "metadata": {},
     "output_type": "execute_result"
    }
   ],
   "source": [
    "df"
   ]
  },
  {
   "cell_type": "code",
   "execution_count": null,
   "metadata": {},
   "outputs": [],
   "source": []
  }
 ],
 "metadata": {
  "kernelspec": {
   "display_name": "Python 3",
   "language": "python",
   "name": "python3"
  },
  "language_info": {
   "codemirror_mode": {
    "name": "ipython",
    "version": 3
   },
   "file_extension": ".py",
   "mimetype": "text/x-python",
   "name": "python",
   "nbconvert_exporter": "python",
   "pygments_lexer": "ipython3",
   "version": "3.7.3"
  }
 },
 "nbformat": 4,
 "nbformat_minor": 2
}
