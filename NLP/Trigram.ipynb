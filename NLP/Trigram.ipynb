{
 "cells": [
  {
   "cell_type": "code",
   "execution_count": 76,
   "metadata": {},
   "outputs": [],
   "source": [
    "import re\n",
    "from random import uniform\n",
    "from collections import defaultdict\n",
    "\n",
    "r_alphabet = re.compile(u'[а-яА-Я0-9-]+|[.,:;?!]+')\n",
    "\n",
    "def gen_lines(corpus):\n",
    "    data = open(corpus)\n",
    "    for line in data:\n",
    "        yield line.lower()\n",
    "\n",
    "def gen_tokens(lines):\n",
    "    for line in lines:\n",
    "        for token in r_alphabet.findall(line):\n",
    "            yield token\n",
    "\n",
    "def gen_trigrams(tokens):\n",
    "    t0, t1 = '$', '$'\n",
    "    for t2 in tokens:\n",
    "        yield t0, t1, t2\n",
    "        if t2 in '.!?':\n",
    "            yield t1, t2, '$'\n",
    "            yield t2, '$','$'\n",
    "            t0, t1 = '$', '$'\n",
    "        else:\n",
    "            t0, t1 = t1, t2\n",
    "\n",
    "def train(corpus):\n",
    "    lines = gen_lines(corpus)\n",
    "    tokens = gen_tokens(lines)\n",
    "    trigrams = gen_trigrams(tokens)\n",
    "\n",
    "    bi, tri = defaultdict(lambda: 0.0), defaultdict(lambda: 0.0)\n",
    "\n",
    "    for t0, t1, t2 in trigrams:\n",
    "        bi[t0, t1] += 1\n",
    "        tri[t0, t1, t2] += 1\n",
    "\n",
    "    model = {}\n",
    "    for (t0, t1, t2), freq in tri.items():\n",
    "        if (t0, t1) in model:\n",
    "            model[t0, t1].append((t2, freq/bi[t0, t1]))\n",
    "        else:\n",
    "            model[t0, t1] = [(t2, freq/bi[t0, t1])]\n",
    "    return model\n",
    "\n",
    "def generate_sentence(model):\n",
    "    phrase = ''\n",
    "    t0, t1 = '$', '$'\n",
    "    while 1:\n",
    "        t0, t1 = t1, unirand(model[t0, t1])\n",
    "        if t1 == '$': break\n",
    "        if t1 in ('.!?,;:') or t0 == '$':\n",
    "            phrase += t1\n",
    "        else:\n",
    "            phrase += ' ' + t1\n",
    "    return phrase.capitalize()\n",
    "\n",
    "def unirand(seq):\n",
    "    sum_, freq_ = 0, 0\n",
    "    for item, freq in seq:\n",
    "        sum_ += freq\n",
    "    rnd = uniform(0, sum_)\n",
    "    for token, freq in seq:\n",
    "        freq_ += freq\n",
    "        if rnd < freq_:\n",
    "            return token\n"
   ]
  },
  {
   "cell_type": "code",
   "execution_count": 94,
   "metadata": {},
   "outputs": [],
   "source": [
    "def generate_sentence_based(model, first_word='', n=100):\n",
    "    phrase = ''\n",
    "    if (len(first_word)>0):\n",
    "        t0, t1 = '$', first_word\n",
    "    else:\n",
    "        t0, t1 = '$', '$'\n",
    "    while n>0:\n",
    "        n-=1\n",
    "        t0, (t1, fr) = t1, unirand_freq(model[t0, t1])\n",
    "        if t1 == '$': break\n",
    "        if t1 in ('.!?,;:') or t0 == '$':\n",
    "            phrase += t1 \n",
    "        else:\n",
    "            phrase += ' ' + t1\n",
    "    return first_word.capitalize()+''+ phrase.capitalize()"
   ]
  },
  {
   "cell_type": "code",
   "execution_count": 95,
   "metadata": {},
   "outputs": [],
   "source": [
    "def unirand_freq(seq):\n",
    "    sum_, freq_ = 0, 0\n",
    "    for item, freq in seq:\n",
    "        sum_ += freq\n",
    "    rnd = uniform(0, sum_)\n",
    "    for token, freq in seq:\n",
    "        freq_ += freq\n",
    "        if rnd < freq_:\n",
    "            return (token, freq)"
   ]
  },
  {
   "cell_type": "code",
   "execution_count": 96,
   "metadata": {},
   "outputs": [
    {
     "name": "stdout",
     "output_type": "stream",
     "text": [
      "-- о, и все так делают.\n",
      "Он все читал, отмечая сотни чертой мела на воротах.\n",
      "Как будто облегчение от своих сомнений и вследствие этого недоброжелательно.\n",
      "Она не знала.\n",
      "-- я так и текут.\n",
      "Она здесь еще третью часть своих средств на устройство, сооружение франц.\n",
      "--!\n",
      ";,!\n",
      "Он что-то слишком горячо заступался за дубкова, у тебя лишний работник пропал -- как вам сказать, - быть понятым - выражается в одном - позволь, люди этого войска не позволял этого.\n",
      "- да отчего ж не увидимся.\n"
     ]
    }
   ],
   "source": [
    "for i in range(10):\n",
    "    print (generate_sentence(model))"
   ]
  },
  {
   "cell_type": "code",
   "execution_count": 97,
   "metadata": {},
   "outputs": [],
   "source": [
    "model = train('tolstoy.txt')"
   ]
  },
  {
   "cell_type": "code",
   "execution_count": 98,
   "metadata": {},
   "outputs": [
    {
     "name": "stdout",
     "output_type": "stream",
     "text": [
      "Тогда только про то, что, потому что попросил меня разбить завивку, и даже любовь, про которую говорили, что власть есть власть есть власть, если на это из канавы к лошадям.\n",
      "Тогда эта встреча не произвела на него испуганными глазами подошел к стулу, чтоб образовать людей твердых, добродетельных матери и, чтобы они последние перешли и зажгли мост, сбрасывает мешки с горючими веществами в воду и выпивали ее до тех пор как приехал николай, что кампания кончена?\n",
      "Тогда ему казалось, стояли пешие.\n",
      "Тогда, когда у противника шестнадцать шашек, а мы все ездили к ним повозки: человек в сером сюртуке встал и подошел к столу, достал тетрадь, в том, что, прости врагам моим!\n",
      "Тогда на пути жертвованья она могла требовать этого и взять ее на прежнее место.\n",
      "Тогда эта встреча не произвела на него взглядов докторов, обыкновенно говоривший легко и хорошо.\n",
      "Тогда я сказал: - ты будешь или дипломат?\n",
      "Тогда не пришли к безусловной свободе вне пространства, что без малейшего промежутка, сопровождается таким оглушительным треском грома, но бледно-серый, сидел на первой лавке, на которой она выходила на середину залы, священник надевал ризу и раздались звуки голоса отца и неестественным тоном княжны, сидевшие на дальних и на вас радоваться.\n",
      "Тогда только в москве столько родных!\n",
      "Тогда шамиль, а чтобы не взглянуть на знаменитого наиба, вел графский стремянной; сам же кутузов со свитой возвращался в город, занятый и делами имения жены, и предложила ему сесть и, занимая в ложе лежал дома на диване, и, налетев на него и для чего же ты не спишь?\n"
     ]
    }
   ],
   "source": [
    "for i in range(10):\n",
    "    print (generate_sentence_based(model, 'тогда'))"
   ]
  },
  {
   "cell_type": "code",
   "execution_count": 5,
   "metadata": {},
   "outputs": [],
   "source": [
    "import pandas as pd"
   ]
  },
  {
   "cell_type": "code",
   "execution_count": 6,
   "metadata": {},
   "outputs": [],
   "source": [
    "df1 = pd.read_csv('24.csv')\n",
    "df2 =pd.read_csv('lenta.csv')\n",
    "df3 = pd.read_csv('vesti.csv')\n",
    "df = pd.concat([df1,df2,df3])\n",
    "del df1\n",
    "del df2\n",
    "del df3\n",
    "df = df.dropna()"
   ]
  },
  {
   "cell_type": "code",
   "execution_count": 19,
   "metadata": {},
   "outputs": [],
   "source": [
    "text = ' \\n '.join(df.text)"
   ]
  },
  {
   "cell_type": "code",
   "execution_count": 22,
   "metadata": {},
   "outputs": [],
   "source": [
    "file1 = open(\"MyFile.txt\",\"w\") \n",
    "file1.write(text)\n",
    "file1.close() "
   ]
  },
  {
   "cell_type": "code",
   "execution_count": 23,
   "metadata": {},
   "outputs": [
    {
     "name": "stdout",
     "output_type": "stream",
     "text": [
      "Следующее евровидение пройдет с 14 по словам специалистов, прибор регистрации параметров полета подвергся интенсивному температурному воздействию и получил свою демократию, потому что после избрания главой правительства чечни в 2015 году украина и 1, забил 32 мяча и отдал ему свое сердце он завещал похоронить в польше, германии, раскритиковав политику украинизации страны.\n",
      "Мама ирина всегда полностью соблюдала все рекомендации по порядку возбуждения дел, возбужденных по статьям хулиганство и побои.\n",
      "К 20 дням ареста за вторжение в германию в 1882 году он перенес несколько сердечных приступов.\n",
      "Преподавателя по музыке задержали правоохранители.\n",
      "В настоящее время под наблюдением врачей находятся 62 человека, выяснить, чем дольше ребенок находится в деликатной ситуации: есть опасения нехватки сырья, а от того, что изучает размер ущерба, а фронтальный 1920х1080 точек 30 60, а также оказать помощь при госпитализации подъяпольского.\n",
      "Семь процентов россиян.\n",
      "Для детей старше 16 лет.\n",
      ".\n",
      "Пострадавших доставили в больницу на вертолете в травматологический центр для несовершеннолетних.\n",
      "Об этом она написала в своем выступлении эту тему обошел стороной.\n"
     ]
    }
   ],
   "source": [
    "model = train('MyFile.txt')\n",
    "for i in range(10):\n",
    "    print (generate_sentence(model))"
   ]
  },
  {
   "cell_type": "code",
   "execution_count": null,
   "metadata": {},
   "outputs": [],
   "source": []
  }
 ],
 "metadata": {
  "kernelspec": {
   "display_name": "Python 3",
   "language": "python",
   "name": "python3"
  },
  "language_info": {
   "codemirror_mode": {
    "name": "ipython",
    "version": 3
   },
   "file_extension": ".py",
   "mimetype": "text/x-python",
   "name": "python",
   "nbconvert_exporter": "python",
   "pygments_lexer": "ipython3",
   "version": "3.7.3"
  }
 },
 "nbformat": 4,
 "nbformat_minor": 2
}
