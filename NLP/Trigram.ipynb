{
 "cells": [
  {
   "cell_type": "markdown",
   "metadata": {},
   "source": [
    "\n"
   ]
  },
  {
   "cell_type": "code",
   "execution_count": 23,
   "metadata": {},
   "outputs": [],
   "source": [
    "import re\n",
    "from random import uniform\n",
    "from collections import defaultdict\n",
    "import codecs\n",
    "\n",
    "r_alphabet = re.compile(u'[а-яА-Я0-9-]+|[.,:;?!]+')\n",
    "\n",
    "def gen_lines(corpus):\n",
    "    data = codecs.open(corpus, 'r', \"utf_8_sig\")\n",
    "    for line in data:\n",
    "        yield line.lower()\n",
    "        \n",
    "\n",
    "def gen_tokens(lines):\n",
    "    for line in lines:\n",
    "        for token in r_alphabet.findall(line):\n",
    "            yield token\n",
    "\n",
    "def gen_trigrams(tokens):\n",
    "    t0, t1 = '$', '$'\n",
    "    for t2 in tokens:\n",
    "        yield t0, t1, t2\n",
    "        if t2 in '.!?':\n",
    "            yield t1, t2, '$'\n",
    "            yield t2, '$','$'\n",
    "            t0, t1 = '$', '$'\n",
    "        else:\n",
    "            t0, t1 = t1, t2\n",
    "\n",
    "def train(corpus):\n",
    "    lines = gen_lines(corpus)\n",
    "    tokens = gen_tokens(lines)\n",
    "    trigrams = gen_trigrams(tokens)\n",
    "\n",
    "    bi, tri = defaultdict(lambda: 0.0), defaultdict(lambda: 0.0)\n",
    "\n",
    "    for t0, t1, t2 in trigrams:\n",
    "        bi[t0, t1] += 1\n",
    "        tri[t0, t1, t2] += 1\n",
    "\n",
    "    model = {}\n",
    "    for (t0, t1, t2), freq in tri.items():\n",
    "        if (t0, t1) in model:\n",
    "            model[t0, t1].append((t2, freq/bi[t0, t1]))\n",
    "        else:\n",
    "            model[t0, t1] = [(t2, freq/bi[t0, t1])]\n",
    "    return model\n",
    "\n",
    "def generate_sentence(model):\n",
    "    phrase = ''\n",
    "    t0, t1 = '$', '$'\n",
    "    while 1:\n",
    "        t0, t1 = t1, unirand(model[t0, t1])\n",
    "        if t1 == '$': break\n",
    "        if t1 in ('.!?,;:') or t0 == '$':\n",
    "            phrase += t1\n",
    "        else:\n",
    "            phrase += ' ' + t1\n",
    "    return phrase.capitalize()\n",
    "\n",
    "def unirand(seq):\n",
    "    sum_, freq_ = 0, 0\n",
    "    for item, freq in seq:\n",
    "        sum_ += freq\n",
    "    rnd = uniform(0, sum_)\n",
    "    for token, freq in seq:\n",
    "        freq_ += freq\n",
    "        if rnd < freq_:\n",
    "            return token\n"
   ]
  },
  {
   "cell_type": "code",
   "execution_count": 24,
   "metadata": {},
   "outputs": [],
   "source": [
    "def generate_sentence_based(model, first_word='', n=100):\n",
    "    phrase = ''\n",
    "    if (len(first_word)>0):\n",
    "        t0, t1 = '$', first_word\n",
    "    else:\n",
    "        t0, t1 = '$', '$'\n",
    "    while n>0:\n",
    "        n-=1\n",
    "        t0, (t1, fr) = t1, unirand_freq(model[t0, t1])\n",
    "        if t1 == '$': break\n",
    "        if t1 in ('.!?,;:') or t0 == '$':\n",
    "            phrase += t1 \n",
    "        else:\n",
    "            phrase += ' ' + t1\n",
    "    return first_word.capitalize()+''+ phrase.capitalize()"
   ]
  },
  {
   "cell_type": "code",
   "execution_count": 25,
   "metadata": {},
   "outputs": [],
   "source": [
    "def unirand_freq(seq):\n",
    "    sum_, freq_ = 0, 0\n",
    "    for item, freq in seq:\n",
    "        sum_ += freq\n",
    "    rnd = uniform(0, sum_)\n",
    "    for token, freq in seq:\n",
    "        freq_ += freq\n",
    "        if rnd < freq_:\n",
    "            return (token, freq)"
   ]
  },
  {
   "cell_type": "code",
   "execution_count": 26,
   "metadata": {},
   "outputs": [],
   "source": [
    "model = train('tolstoy.txt')"
   ]
  },
  {
   "cell_type": "code",
   "execution_count": 27,
   "metadata": {},
   "outputs": [
    {
     "name": "stdout",
     "output_type": "stream",
     "text": [
      "Заметил ли граф безухов.\n",
      "Сам по себе живет.\n",
      "Однако перед экзаменом, когда все приезжавшие в укрепление, что будет с, с которой наташа прислушалась именно потому, что он сказал, что ты полезен!\n",
      "В то, что с ним и не трогался с места, из настоящих.\n",
      "-- да, это значило: что, ты мне пишешь, что бы ему отмстить, ты меня не удовлетворил ответ, что она еще спросила, -- сказал князь андрей; но он чувствовал по озлоблению стариков, по его спине.\n",
      "Он тридцатилетним опытом знал, что государь знал о князе андрее, ни другого; а теперь он верно вам говорил, опустив голову и побить и забрать всех разом.\n",
      "Он лежал и теперь пропитано водою.\n",
      "Положим, что она не будет?\n",
      "Если он будет таким же выражением досады проговорил денисов.\n",
      "Слово теперь значило: при воронцове, то ли дело мы, отчего ж нам не сюда!\n"
     ]
    }
   ],
   "source": [
    "for i in range(10):\n",
    "    print (generate_sentence(model))"
   ]
  },
  {
   "cell_type": "code",
   "execution_count": 28,
   "metadata": {},
   "outputs": [
    {
     "name": "stdout",
     "output_type": "stream",
     "text": [
      "Тогда он был чиновником особых поручений.\n",
      "Тогда как то делают историки, описывая поход ли 13-го года и восстановление бурбонов, и я оставлю детям десять тысяч в год кончины матушки авдотью васильевну?\n",
      "Тогда жиран рвался так сильно занимали его.\n",
      "Тогда бы я был под ульм, я мог бы никак объяснить; но он не богат, а туловище на другой берег и уже не состоял в том дело, стал показывать изорванные полы своей одежды, мне совершенно все равно, а хотелось по всем телодвижениям, было ли оно, это славно, -- сказал шиншин, с каким-то внешним добродушием и привычкою к нашему брату поступающему и нашему брату поступающему внушал зависть и уважение.\n",
      "Тогда, придя в то мгновение, как и моих народов.\n",
      "Тогда кому-нибудь из нашей армии; но ежели ты теперь занят?\n",
      "Тогда отец назначил мне срок, дай я его очень ласково и покровительственно оглядывая танцующих.\n",
      "Тогда я не знаю, отчего же вы, разлюбезные, -- говорила она матери.\n",
      "Тогда исправить все человечество называет добром и даже те из членов, сколько бы все роздал.\n",
      "Тогда он по опыту знал то мучительное состояние ожидания страха и почтения, - сказал сердитый голос папа над моим ухом, и пьер, -- а главное, отступать, тогда как положение это было то, что отказаться от наследства видел выражение его лица, сел за приготовленный обед.\n"
     ]
    }
   ],
   "source": [
    "for i in range(10):\n",
    "    print (generate_sentence_based(model, 'тогда'))"
   ]
  },
  {
   "cell_type": "code",
   "execution_count": 29,
   "metadata": {},
   "outputs": [],
   "source": [
    "import pandas as pd"
   ]
  },
  {
   "cell_type": "code",
   "execution_count": 30,
   "metadata": {},
   "outputs": [],
   "source": [
    "df1 = pd.read_csv('24.csv')\n",
    "df2 =pd.read_csv('lenta.csv')\n",
    "df3 = pd.read_csv('vesti.csv')\n",
    "df = pd.concat([df1,df2,df3])\n",
    "del df1\n",
    "del df2\n",
    "del df3\n",
    "df = df.dropna()"
   ]
  },
  {
   "cell_type": "code",
   "execution_count": 31,
   "metadata": {},
   "outputs": [],
   "source": [
    "text = ' \\n '.join(df.text)"
   ]
  },
  {
   "cell_type": "code",
   "execution_count": 36,
   "metadata": {},
   "outputs": [],
   "source": [
    "file1 = codecs.open(\"MyFile.txt\",\"w\", \"utf_8_sig\") \n",
    "file1.write(text)\n",
    "file1.close() "
   ]
  },
  {
   "cell_type": "code",
   "execution_count": 38,
   "metadata": {},
   "outputs": [
    {
     "name": "stdout",
     "output_type": "stream",
     "text": [
      "В ноябре 2018 года в москве и санкт-петербурге.\n",
      "29 5 127 видео рай и ад 1963 триллер, мистика, драма видео под покровом ночи 2016 криминал, мистика сша видео головокружение 1958 триллер, драма, мистика сша видео сердце ангела 1987 триллер, мелодрама, мистика, триллер сша видео малхолланд драйв, прирожд нные убийцы, экзистенция, молчание ягнят, женщина в песках 1963 драма, триллер сша видео сердце ангела 1987 триллер, драма, триллер сша видео прибытие поезда на вокзал ла-сьота 1895 документальный фильм колыма родина нашего страха, что у вышедшего осенью 2012-го диагональ экрана составляла 5, на корпусе р30 появился ответный разъем для 3, 7 мая.\n",
      "2017.\n",
      "54 5 49 видео подмена 2008 биографический фильм 0 23 маякрасивый, плохой, злойдрама, криминал франция, сша сыграли ключевую роль в восточной части европы происходили столкновения с ограждением.\n",
      "Это означало, что она является представителем сми, ограничения, скорее всего, коснутся только новых моделей.\n",
      "Мы должны помнить, что она носит то, что, хороша забавушка!\n",
      "Документ подразумевает образование единого политического, экономического, военного и экономического, военного правителя японии, замкнул тройку.\n",
      "Украина прекратила свое существование.\n",
      "Инцидент произошел утром 7 мая в кинотеатре в москве, на котором жители смогут проголосовать за площадку для удобства хранения или транспортировки.\n",
      "Иногда веллингс отправлял сообщения себе от того, как победитель президентской гонки.\n"
     ]
    }
   ],
   "source": [
    "model = train('MyFile.txt')\n",
    "for i in range(10):\n",
    "    print (generate_sentence(model))"
   ]
  },
  {
   "cell_type": "code",
   "execution_count": 39,
   "metadata": {},
   "outputs": [
    {
     "name": "stdout",
     "output_type": "stream",
     "text": [
      "Классический, литейный.\n",
      "05 10: 15топ-10 худших аэропортов мира16.\n",
      "Главный тренер сборной россии александра георгиева, который под давлением властей может отказаться от какой-либо финансовой компенсации и может отпустить футболиста, у коса нашла на камень при констриктивном перикардите, когда температура воздуха превышает отметку в 32 градуса.\n",
      "Оба слота поддерживают сети четвертого 4 поколения, 12 человек госпитализировали, затем он набросился на начальницу поезда, идущего по телевизору постоянно показывают, что он их не существует метода для немедленного прекращения войны на стыке с верхним торцом, оказалась решетка разговорного динамика.\n",
      "По делу о гибели с начала года увеличил добычу и снизил экспорт 16.\n",
      "Я пишу об антигероях вместо того, кластер запустит партнерскую образовательную программу, посвященную финансовому и правовому сопровождению проектов.\n",
      "Победу с большим удовольствием приеду как гость.\n",
      "Важно, необходимо ежегодно выдавать 2, 1 млн рублей, на северо-западе и одним из немногих политиков на постсоветском пространстве.\n",
      "Бутлегеры очень быстро, возможно, что незадолго до того, как когда-то жили наши предки тысячелетиями накапливали, как и американская заинтересована в конфликте в августе 2016 года в городе березники.\n",
      "Московская область, в которой я живу, окно во двор, где люди, по словам американки, 24 апреля.\n"
     ]
    }
   ],
   "source": [
    "for i in range(10):\n",
    "    print (generate_sentence(model))"
   ]
  },
  {
   "cell_type": "code",
   "execution_count": null,
   "metadata": {},
   "outputs": [],
   "source": []
  },
  {
   "cell_type": "code",
   "execution_count": null,
   "metadata": {},
   "outputs": [],
   "source": []
  },
  {
   "cell_type": "code",
   "execution_count": null,
   "metadata": {},
   "outputs": [],
   "source": []
  },
  {
   "cell_type": "markdown",
   "metadata": {},
   "source": [
    "# Домашнее задание:"
   ]
  },
  {
   "cell_type": "markdown",
   "metadata": {},
   "source": [
    "## Вариант 1: Чат бот в телеграм, который определяет тональность написанного в него текста"
   ]
  },
  {
   "cell_type": "markdown",
   "metadata": {},
   "source": [
    " - https://tproger.ru/translations/telegram-bot-create-and-deploy/\n",
    " - https://lmgtfy.com/?q=%D0%BE%D0%BF%D1%80%D0%B5%D0%B4%D0%B5%D0%BB%D0%B5%D0%BD%D0%B8%D0%B5+%D1%82%D0%BE%D0%BD%D0%B0%D0%BB%D1%8C%D0%BD%D0%BE%D1%81%D1%82%D0%B8+%D1%82%D0%B5%D0%BA%D1%81%D1%82%D0%B0"
   ]
  },
  {
   "cell_type": "markdown",
   "metadata": {},
   "source": [
    "## Вариант 2: Поиск именованных сущностей в новостях, маппинг их на географические названия страны, отметка по геопозиции"
   ]
  },
  {
   "cell_type": "markdown",
   "metadata": {},
   "source": [
    " - https://natasha.readthedocs.io/ru/latest/\n",
    " - https://proglib.io/p/python-web-map/"
   ]
  },
  {
   "cell_type": "code",
   "execution_count": null,
   "metadata": {},
   "outputs": [],
   "source": []
  }
 ],
 "metadata": {
  "kernelspec": {
   "display_name": "Python 3",
   "language": "python",
   "name": "python3"
  },
  "language_info": {
   "codemirror_mode": {
    "name": "ipython",
    "version": 3
   },
   "file_extension": ".py",
   "mimetype": "text/x-python",
   "name": "python",
   "nbconvert_exporter": "python",
   "pygments_lexer": "ipython3",
   "version": "3.7.4"
  }
 },
 "nbformat": 4,
 "nbformat_minor": 4
}
