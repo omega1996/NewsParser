{
 "cells": [
  {
   "cell_type": "code",
   "execution_count": 1,
   "metadata": {},
   "outputs": [
    {
     "name": "stdout",
     "output_type": "stream",
     "text": [
      "-- а николай мне ... я принимаю ваше предложение ... она не входила ко мне?\n",
      "-- соня, крестясь.\n",
      "Увидав мундир училища, которое следует обыкновенно за оконченным серьезным и настоящим миром.\n",
      "Чаще и чаще, и через него, и князь андрей, умывшись и одевшись, дома.\n",
      "5 немедленно средства употреблены будут для восстановления границ народов был так велик ростом, очень бы хотелось.\n",
      "Это был первый раз, раз сказанные пьером.\n",
      "Княгиня марья васильевна мужу.\n",
      "И любила.\n",
      "- сказал старик и, обращаясь к подошедшему офицеру.\n",
      "--, 5 -- и князь андрей убит, а всего более за мою руку держись, уронишь так, чтобы у вас, оставить или не доедете до армии и о последнем событии на смотру, энглизированной кобыле и, как он был спокоен, он вернулся, и аббат морио и многие не могла спать и несколько людей присоединились к двигавшейся толпе.\n"
     ]
    }
   ],
   "source": [
    "import re\n",
    "from random import uniform\n",
    "from collections import defaultdict\n",
    "\n",
    "r_alphabet = re.compile(u'[а-яА-Я0-9-]+|[.,:;?!]+')\n",
    "\n",
    "def gen_lines(corpus):\n",
    "    data = open(corpus)\n",
    "    for line in data:\n",
    "        yield line.lower()\n",
    "\n",
    "def gen_tokens(lines):\n",
    "    for line in lines:\n",
    "        for token in r_alphabet.findall(line):\n",
    "            yield token\n",
    "\n",
    "def gen_trigrams(tokens):\n",
    "    t0, t1 = '$', '$'\n",
    "    for t2 in tokens:\n",
    "        yield t0, t1, t2\n",
    "        if t2 in '.!?':\n",
    "            yield t1, t2, '$'\n",
    "            yield t2, '$','$'\n",
    "            t0, t1 = '$', '$'\n",
    "        else:\n",
    "            t0, t1 = t1, t2\n",
    "\n",
    "def train(corpus):\n",
    "    lines = gen_lines(corpus)\n",
    "    tokens = gen_tokens(lines)\n",
    "    trigrams = gen_trigrams(tokens)\n",
    "\n",
    "    bi, tri = defaultdict(lambda: 0.0), defaultdict(lambda: 0.0)\n",
    "\n",
    "    for t0, t1, t2 in trigrams:\n",
    "        bi[t0, t1] += 1\n",
    "        tri[t0, t1, t2] += 1\n",
    "\n",
    "    model = {}\n",
    "    for (t0, t1, t2), freq in tri.items():\n",
    "        if (t0, t1) in model:\n",
    "            model[t0, t1].append((t2, freq/bi[t0, t1]))\n",
    "        else:\n",
    "            model[t0, t1] = [(t2, freq/bi[t0, t1])]\n",
    "    return model\n",
    "\n",
    "def generate_sentence(model):\n",
    "    phrase = ''\n",
    "    t0, t1 = '$', '$'\n",
    "    while 1:\n",
    "        t0, t1 = t1, unirand(model[t0, t1])\n",
    "        if t1 == '$': break\n",
    "        if t1 in ('.!?,;:') or t0 == '$':\n",
    "            phrase += t1\n",
    "        else:\n",
    "            phrase += ' ' + t1\n",
    "    return phrase.capitalize()\n",
    "\n",
    "def unirand(seq):\n",
    "    sum_, freq_ = 0, 0\n",
    "    for item, freq in seq:\n",
    "        sum_ += freq\n",
    "    rnd = uniform(0, sum_)\n",
    "    for token, freq in seq:\n",
    "        freq_ += freq\n",
    "        if rnd < freq_:\n",
    "            return token\n"
   ]
  },
  {
   "cell_type": "code",
   "execution_count": 3,
   "metadata": {},
   "outputs": [
    {
     "name": "stdout",
     "output_type": "stream",
     "text": [
      "Ростов почувствовал, что кричавший братцы!\n",
      "-- государь тут.\n",
      "- зашей и эти нити, но, заметив, что, кроме анатоля, того, что мы сделаем, что весь интерес жизни.\n",
      "Явилось, как бы мне это письмо, положил морду мне на постели, казалось, что он так дорожил прежде.\n",
      "-- что вы не знакомы с?\n",
      "Мельник уже два года в деревне.\n",
      "-- помнишь, как у детей в том, что она увидит гроб, то она не отвечала и пошла в девичью; в сравнении с этой точки зрения, с головой и с своим безумием самообожания, с трудом опустился на веревках фабричный, неестественно опустив голову, когда он говорил это на деле.\n",
      "Нет, нет причины, и никто не любит и уважает.\n",
      "Княжна марья не говорила иначе, чем прежде, остались за столом князь чаще всего обращался к нему, испугала ростова.\n",
      "С каратаевым и лиловой кривоногой собакой, которая более всего из рассказа князя андрея, несмотря на то, что для того чтобы атаковать, недостаточно желания сделать это усилие и лег, как чуть-чуть, легонько дотронуться до груди.\n"
     ]
    }
   ],
   "source": [
    "model = train('tolstoy.txt')\n",
    "for i in range(10):\n",
    "    print (generate_sentence(model))"
   ]
  },
  {
   "cell_type": "code",
   "execution_count": 5,
   "metadata": {},
   "outputs": [],
   "source": [
    "import pandas as pd"
   ]
  },
  {
   "cell_type": "code",
   "execution_count": 6,
   "metadata": {},
   "outputs": [],
   "source": [
    "df1 = pd.read_csv('24.csv')\n",
    "df2 =pd.read_csv('lenta.csv')\n",
    "df3 = pd.read_csv('vesti.csv')\n",
    "df = pd.concat([df1,df2,df3])\n",
    "del df1\n",
    "del df2\n",
    "del df3\n",
    "df = df.dropna()"
   ]
  },
  {
   "cell_type": "code",
   "execution_count": 19,
   "metadata": {},
   "outputs": [],
   "source": [
    "text = ' \\n '.join(df.text)"
   ]
  },
  {
   "cell_type": "code",
   "execution_count": 22,
   "metadata": {},
   "outputs": [],
   "source": [
    "file1 = open(\"MyFile.txt\",\"w\") \n",
    "file1.write(text)\n",
    "file1.close() "
   ]
  },
  {
   "cell_type": "code",
   "execution_count": 23,
   "metadata": {},
   "outputs": [
    {
     "name": "stdout",
     "output_type": "stream",
     "text": [
      "Следующее евровидение пройдет с 14 по словам специалистов, прибор регистрации параметров полета подвергся интенсивному температурному воздействию и получил свою демократию, потому что после избрания главой правительства чечни в 2015 году украина и 1, забил 32 мяча и отдал ему свое сердце он завещал похоронить в польше, германии, раскритиковав политику украинизации страны.\n",
      "Мама ирина всегда полностью соблюдала все рекомендации по порядку возбуждения дел, возбужденных по статьям хулиганство и побои.\n",
      "К 20 дням ареста за вторжение в германию в 1882 году он перенес несколько сердечных приступов.\n",
      "Преподавателя по музыке задержали правоохранители.\n",
      "В настоящее время под наблюдением врачей находятся 62 человека, выяснить, чем дольше ребенок находится в деликатной ситуации: есть опасения нехватки сырья, а от того, что изучает размер ущерба, а фронтальный 1920х1080 точек 30 60, а также оказать помощь при госпитализации подъяпольского.\n",
      "Семь процентов россиян.\n",
      "Для детей старше 16 лет.\n",
      ".\n",
      "Пострадавших доставили в больницу на вертолете в травматологический центр для несовершеннолетних.\n",
      "Об этом она написала в своем выступлении эту тему обошел стороной.\n"
     ]
    }
   ],
   "source": [
    "model = train('MyFile.txt')\n",
    "for i in range(10):\n",
    "    print (generate_sentence(model))"
   ]
  },
  {
   "cell_type": "code",
   "execution_count": null,
   "metadata": {},
   "outputs": [],
   "source": []
  }
 ],
 "metadata": {
  "kernelspec": {
   "display_name": "Python 3",
   "language": "python",
   "name": "python3"
  },
  "language_info": {
   "codemirror_mode": {
    "name": "ipython",
    "version": 3
   },
   "file_extension": ".py",
   "mimetype": "text/x-python",
   "name": "python",
   "nbconvert_exporter": "python",
   "pygments_lexer": "ipython3",
   "version": "3.7.3"
  }
 },
 "nbformat": 4,
 "nbformat_minor": 2
}
