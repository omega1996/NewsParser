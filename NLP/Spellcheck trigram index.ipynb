{
 "cells": [
  {
   "cell_type": "code",
   "execution_count": 1,
   "metadata": {},
   "outputs": [],
   "source": [
    "import pandas as pd\n",
    "from collections import defaultdict\n",
    "import tqdm\n",
    "from nltk import ngrams\n"
   ]
  },
  {
   "cell_type": "code",
   "execution_count": 2,
   "metadata": {},
   "outputs": [],
   "source": [
    "df1 = pd.read_csv('24.csv')\n",
    "df2 =pd.read_csv('lenta.csv')\n",
    "df3 = pd.read_csv('vesti.csv')\n",
    "df = pd.concat([df1,df2,df3])"
   ]
  },
  {
   "cell_type": "code",
   "execution_count": 5,
   "metadata": {},
   "outputs": [],
   "source": [
    "from stringdist import rdlevenshtein"
   ]
  },
  {
   "cell_type": "code",
   "execution_count": 6,
   "metadata": {},
   "outputs": [],
   "source": []
  },
  {
   "cell_type": "code",
   "execution_count": 7,
   "metadata": {},
   "outputs": [],
   "source": [
    "bow = []\n",
    "bow.extend(df.text.apply(lambda x: str(x).replace(',',' ').replace('.','').lower().split(' ')))"
   ]
  },
  {
   "cell_type": "code",
   "execution_count": 8,
   "metadata": {},
   "outputs": [],
   "source": [
    "bowlist = []\n",
    "for i in bow:\n",
    "    bowlist.extend(i)"
   ]
  },
  {
   "cell_type": "code",
   "execution_count": 9,
   "metadata": {},
   "outputs": [
    {
     "data": {
      "application/vnd.jupyter.widget-view+json": {
       "model_id": "ae991217b2fe4cf4b18a584a04b167fc",
       "version_major": 2,
       "version_minor": 0
      },
      "text/plain": [
       "HBox(children=(IntProgress(value=0, max=2385672), HTML(value='')))"
      ]
     },
     "metadata": {},
     "output_type": "display_data"
    },
    {
     "name": "stdout",
     "output_type": "stream",
     "text": [
      "\n"
     ]
    }
   ],
   "source": [
    "dictionary = defaultdict(lambda: 0)\n",
    "tri_dictionary = defaultdict(lambda:[])\n",
    "for i in tqdm.tqdm_notebook(bowlist):\n",
    "    dictionary[i] +=1\n",
    "    trigrams = ngrams('__'+i+'__',3)\n",
    "    for k in trigrams:\n",
    "        gram = ''.join(k)\n",
    "        tri_dictionary[gram].append(i)"
   ]
  },
  {
   "cell_type": "code",
   "execution_count": 10,
   "metadata": {},
   "outputs": [],
   "source": [
    "def getkey(key):\n",
    "    return key[0]"
   ]
  },
  {
   "cell_type": "code",
   "execution_count": 11,
   "metadata": {},
   "outputs": [],
   "source": [
    "def spell_check(string):\n",
    "    answer = []\n",
    "    for i in tqdm.tqdm_notebook(dictionary.items()):\n",
    "        answer.append((rdlevenshtein(i[0],string), i[0],i[1]))\n",
    "    return answer\n",
    "    \n",
    "def tri_spell_check(string):\n",
    "    checklist = []\n",
    "    answer = []\n",
    "    trigrams = ngrams('__'+string+'__',3)\n",
    "    for k in trigrams:\n",
    "        gram = ''.join(k)\n",
    "        checklist.extend(tri_dictionary[gram])\n",
    "    checklist = list(set(checklist))\n",
    "    for i in tqdm.tqdm_notebook(checklist):\n",
    "        answer.append((rdlevenshtein(i,string),i))\n",
    "    return answer"
   ]
  },
  {
   "cell_type": "code",
   "execution_count": 12,
   "metadata": {},
   "outputs": [
    {
     "data": {
      "application/vnd.jupyter.widget-view+json": {
       "model_id": "c75a8f063d6f4d9d9a2c154115ac3d34",
       "version_major": 2,
       "version_minor": 0
      },
      "text/plain": [
       "HBox(children=(IntProgress(value=0, max=165304), HTML(value='')))"
      ]
     },
     "metadata": {},
     "output_type": "display_data"
    },
    {
     "name": "stdout",
     "output_type": "stream",
     "text": [
      "\n"
     ]
    },
    {
     "data": {
      "text/plain": [
       "[(1, 'президент', 1226),\n",
       " (2, 'президента', 1969),\n",
       " (2, 'президенты', 67),\n",
       " (2, 'президенту', 121),\n",
       " (2, 'президенте', 29),\n",
       " (2, 'резидент', 3),\n",
       " (2, '(резидент', 5),\n",
       " (2, 'президентв', 2),\n",
       " (2, '[президент', 3),\n",
       " (3, 'приведет', 668)]"
      ]
     },
     "execution_count": 12,
     "metadata": {},
     "output_type": "execute_result"
    }
   ],
   "source": [
    "answer = spell_check('призидент')\n",
    "sorted(answer,key = getkey)[0:10]"
   ]
  },
  {
   "cell_type": "code",
   "execution_count": 18,
   "metadata": {},
   "outputs": [
    {
     "data": {
      "application/vnd.jupyter.widget-view+json": {
       "model_id": "46a9c9c570964c78b4cd6f99ac61e48e",
       "version_major": 2,
       "version_minor": 0
      },
      "text/plain": [
       "HBox(children=(IntProgress(value=0, max=15285), HTML(value='')))"
      ]
     },
     "metadata": {},
     "output_type": "display_data"
    },
    {
     "name": "stdout",
     "output_type": "stream",
     "text": [
      "\n"
     ]
    },
    {
     "data": {
      "text/plain": [
       "[(0, 'бруно'),\n",
       " (1, 'брно'),\n",
       " (1, 'бурно'),\n",
       " (2, 'брауну'),\n",
       " (2, 'бран'),\n",
       " (2, 'трудно'),\n",
       " (2, 'крупно'),\n",
       " (2, 'брану'),\n",
       " (2, 'брунея'),\n",
       " (2, 'броня')]"
      ]
     },
     "execution_count": 18,
     "metadata": {},
     "output_type": "execute_result"
    }
   ],
   "source": [
    "answer = tri_spell_check('бруно')\n",
    "sorted(answer,key = getkey)[0:10]"
   ]
  },
  {
   "cell_type": "code",
   "execution_count": null,
   "metadata": {},
   "outputs": [],
   "source": []
  },
  {
   "cell_type": "code",
   "execution_count": null,
   "metadata": {},
   "outputs": [],
   "source": []
  }
 ],
 "metadata": {
  "kernelspec": {
   "display_name": "Python 3",
   "language": "python",
   "name": "python3"
  },
  "language_info": {
   "codemirror_mode": {
    "name": "ipython",
    "version": 3
   },
   "file_extension": ".py",
   "mimetype": "text/x-python",
   "name": "python",
   "nbconvert_exporter": "python",
   "pygments_lexer": "ipython3",
   "version": "3.7.4"
  }
 },
 "nbformat": 4,
 "nbformat_minor": 4
}
