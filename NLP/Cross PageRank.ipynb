{
 "cells": [
  {
   "cell_type": "code",
   "execution_count": 1,
   "metadata": {},
   "outputs": [],
   "source": [
    "from collections import defaultdict\n",
    "import pandas as pd\n",
    "from urllib.parse import unquote\n",
    "import tqdm\n",
    "import os\n",
    "from bs4 import BeautifulSoup  \n",
    "import numpy as np\n",
    "import urllib\n"
   ]
  },
  {
   "cell_type": "code",
   "execution_count": 2,
   "metadata": {},
   "outputs": [],
   "source": [
    "path = 'raw/'"
   ]
  },
  {
   "cell_type": "code",
   "execution_count": 3,
   "metadata": {},
   "outputs": [],
   "source": [
    "import re"
   ]
  },
  {
   "cell_type": "code",
   "execution_count": 4,
   "metadata": {},
   "outputs": [
    {
     "data": {
      "text/plain": [
       "['/wiki/fsd_de_ded', '/wiki/dfdf']"
      ]
     },
     "execution_count": 4,
     "metadata": {},
     "output_type": "execute_result"
    }
   ],
   "source": [
    "re.findall(r'/wiki/+\\w*,?\\b','/wiki/fsd_de_ded ddfdfsdsd sds ds sdsd /wiki/dfdf')"
   ]
  },
  {
   "cell_type": "code",
   "execution_count": 5,
   "metadata": {},
   "outputs": [],
   "source": [
    "topics = {}\n",
    "for i, file in enumerate(os.listdir(path)):\n",
    "    topics[file[:-5]] = i"
   ]
  },
  {
   "cell_type": "code",
   "execution_count": 6,
   "metadata": {},
   "outputs": [
    {
     "data": {
      "text/plain": [
       "2379"
      ]
     },
     "execution_count": 6,
     "metadata": {},
     "output_type": "execute_result"
    }
   ],
   "source": [
    "len(topics)"
   ]
  },
  {
   "cell_type": "code",
   "execution_count": 7,
   "metadata": {},
   "outputs": [],
   "source": []
  },
  {
   "cell_type": "code",
   "execution_count": 21,
   "metadata": {},
   "outputs": [],
   "source": [
    "def get_matrix_re():\n",
    "    matrix = np.zeros((len(os.listdir(path)), len(os.listdir(path))))\n",
    "    df = defaultdict(lambda: [])\n",
    "    for i in tqdm.tqdm_notebook(os.listdir(path)):\n",
    "        with open (path+i, encoding=\"UTF-8\") as file:\n",
    "            read = unquote(file.read())\n",
    "            cur_topic = i[:-5]\n",
    "            link_site = re.findall(r'/wiki/.+?\\b',read)\n",
    "            for link in link_site:\n",
    "                if link in topics.keys():\n",
    "                    df[i.split('.')[0]].append(link.split('/')[-1])\n",
    "                    matrix[topics[cur_topic]][topics[link[6:]]] = 1         \n",
    "    return matrix"
   ]
  },
  {
   "cell_type": "code",
   "execution_count": 22,
   "metadata": {
    "scrolled": true
   },
   "outputs": [],
   "source": [
    "def get_matrix():\n",
    "    matrix = np.zeros((len(os.listdir(path)), len(os.listdir(path))))\n",
    "    for file in tqdm.tqdm_notebook(os.listdir(path)):\n",
    "        with open(f\"raw/{file}\", encoding='utf-8') as f:\n",
    "            cur_topic = file[:-5]\n",
    "            bs = BeautifulSoup(f.read(), \"html.parser\")\n",
    "            all_a = bs.find_all(\"a\")\n",
    "            for link in all_a:\n",
    "                if 'href' in link.attrs:\n",
    "                    href = urllib.parse.unquote(link['href'])\n",
    "                    if href.startswith(\"/wiki/\") and href[6:] in topics:\n",
    "                        matrix[topics[cur_topic]][topics[href[6:]]] = 1\n",
    "    return matrix"
   ]
  },
  {
   "cell_type": "code",
   "execution_count": 32,
   "metadata": {},
   "outputs": [],
   "source": [
    "def process(matrix):\n",
    "    for i in matrix:\n",
    "        for j in range(len(i)):\n",
    "            if i[j] == 0:\n",
    "                i[j] = 0.001\n",
    "    row_sums = matrix.sum(axis=1)\n",
    "    norm_matrix = matrix / row_sums[:, np.newaxis]\n",
    "    vector = np.array([0.2]*len(os.listdir(path)))\n",
    "    for _ in range(100):\n",
    "        vector = norm_matrix.transpose().dot(vector)\n",
    "    # np.take(vector, [1, 2])\n",
    "    rank = {}\n",
    "    for i, value in enumerate(vector):\n",
    "        rank[i] = value\n",
    "    return rank"
   ]
  },
  {
   "cell_type": "code",
   "execution_count": 34,
   "metadata": {},
   "outputs": [],
   "source": [
    "def page_rank(rank, n=10, word=None):\n",
    "    if word is not None:\n",
    "        new_topics = [ind for topic, ind in topics.items() if word.lower() in topic.lower()]\n",
    "    if word is not None:\n",
    "        new_rank = {}\n",
    "        for ind in new_topics:\n",
    "            new_rank[ind] = rank[ind]\n",
    "    else:\n",
    "        new_rank = rank.copy()\n",
    "    items = sorted(new_rank.items(), key=lambda t: t[1])[::-1][:n]\n",
    "    for index, value in items:\n",
    "        print(f\"{os.listdir(path)[index][:-5]}: {value}\")"
   ]
  },
  {
   "cell_type": "code",
   "execution_count": null,
   "metadata": {},
   "outputs": [
    {
     "data": {
      "application/vnd.jupyter.widget-view+json": {
       "model_id": "61884f43667e4010909becd5ea4621fc",
       "version_major": 2,
       "version_minor": 0
      },
      "text/plain": [
       "HBox(children=(IntProgress(value=0, max=2379), HTML(value='')))"
      ]
     },
     "metadata": {},
     "output_type": "display_data"
    }
   ],
   "source": [
    "matrix = get_matrix()"
   ]
  },
  {
   "cell_type": "code",
   "execution_count": 33,
   "metadata": {},
   "outputs": [],
   "source": [
    "rank = process(matrix)"
   ]
  },
  {
   "cell_type": "code",
   "execution_count": 35,
   "metadata": {},
   "outputs": [
    {
     "name": "stdout",
     "output_type": "stream",
     "text": [
      "2014_год_в_музыке: 0.20000000000000928\n",
      "Акт_о_судопроизводстве_на_английском_языке: 0.20000000000000928\n",
      "Виргиния: 0.20000000000000928\n",
      "Меня_зовут_Никто: 0.19999999999999798\n",
      "Данидин: 0.19999999999999798\n",
      "Олдрин_(лунный_кратер): 0.19999999999999798\n",
      "Секс,_ложь,_безумие: 0.19999999999999798\n",
      "Тоттенхэм_Хотспур: 0.19999999999999798\n",
      "1996: 0.19999999999999798\n",
      "Армстронг,_Бесс: 0.19999999999999798\n"
     ]
    }
   ],
   "source": [
    "page_rank(rank=rank)"
   ]
  },
  {
   "cell_type": "code",
   "execution_count": 36,
   "metadata": {},
   "outputs": [
    {
     "name": "stdout",
     "output_type": "stream",
     "text": [
      "Армстронг,_Бесс: 0.19999999999999798\n",
      "Армстронг,_Чарльз: 0.19999999999999798\n",
      "Армстронг,_Джерри: 0.19999999999999798\n",
      "Армстронг,_Роман_Адамович: 0.19999999999999798\n",
      "Армстронг,_Уильям_Джордж: 0.19999999999999798\n",
      "Армстронг,_Алан: 0.19999999999999798\n",
      "Армстронг,_Генри_Эдвард: 0.19999999999999798\n",
      "Армстронг,_Кёрли: 0.19999999999999798\n",
      "Армстронг,_Стюарт: 0.19999999999999798\n",
      "Армстронг_(фамилия): 0.19999999999999798\n"
     ]
    }
   ],
   "source": [
    "page_rank(rank=rank, word='армстронг')"
   ]
  },
  {
   "cell_type": "code",
   "execution_count": null,
   "metadata": {},
   "outputs": [],
   "source": []
  }
 ],
 "metadata": {
  "kernelspec": {
   "display_name": "Python 3",
   "language": "python",
   "name": "python3"
  },
  "language_info": {
   "codemirror_mode": {
    "name": "ipython",
    "version": 3
   },
   "file_extension": ".py",
   "mimetype": "text/x-python",
   "name": "python",
   "nbconvert_exporter": "python",
   "pygments_lexer": "ipython3",
   "version": "3.7.3"
  }
 },
 "nbformat": 4,
 "nbformat_minor": 2
}
