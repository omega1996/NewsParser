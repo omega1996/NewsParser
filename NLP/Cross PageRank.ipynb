{
 "cells": [
  {
   "cell_type": "code",
   "execution_count": 16,
   "metadata": {},
   "outputs": [],
   "source": [
    "from collections import defaultdict\n",
    "import pandas as pd\n",
    "from urllib.parse import unquote\n",
    "import tqdm\n",
    "import os\n",
    "from bs4 import BeautifulSoup  \n",
    "import numpy as np\n",
    "import urllib\n",
    "import re\n",
    "import urllib.parse\n",
    "import time\n",
    "import scipy\n",
    "import scipy.linalg"
   ]
  },
  {
   "cell_type": "code",
   "execution_count": 6,
   "metadata": {},
   "outputs": [],
   "source": [
    "path = 'raw/'"
   ]
  },
  {
   "cell_type": "code",
   "execution_count": 7,
   "metadata": {},
   "outputs": [
    {
     "data": {
      "text/plain": [
       "['/wiki/fsd_de_ded', '/wiki/dfdf']"
      ]
     },
     "execution_count": 7,
     "metadata": {},
     "output_type": "execute_result"
    }
   ],
   "source": [
    "re.findall(r'/wiki/+\\w*,?\\b','/wiki/fsd_de_ded ddfdfsdsd sds ds sdsd /wiki/dfdf')"
   ]
  },
  {
   "cell_type": "code",
   "execution_count": 8,
   "metadata": {},
   "outputs": [],
   "source": [
    "topics = {}\n",
    "for i, file in enumerate(os.listdir(path)):\n",
    "    topics[file[:-5]] = i"
   ]
  },
  {
   "cell_type": "code",
   "execution_count": 9,
   "metadata": {},
   "outputs": [
    {
     "data": {
      "text/plain": [
       "2379"
      ]
     },
     "execution_count": 9,
     "metadata": {},
     "output_type": "execute_result"
    }
   ],
   "source": [
    "len(topics)"
   ]
  },
  {
   "cell_type": "code",
   "execution_count": 10,
   "metadata": {},
   "outputs": [],
   "source": [
    "def get_matrix_re():\n",
    "    matrix = np.zeros((len(os.listdir(path)), len(os.listdir(path))))\n",
    "    df = defaultdict(lambda: [])\n",
    "    for i in tqdm.tqdm_notebook(os.listdir(path)):\n",
    "        with open (path+i, encoding=\"UTF-8\") as file:\n",
    "            read = unquote(file.read())\n",
    "            cur_topic = i[:-5]\n",
    "            link_site = re.findall(r'/wiki/.+?\\b',read)\n",
    "            for link in link_site:\n",
    "                if link in topics.keys():\n",
    "                    df[i.split('.')[0]].append(link.split('/')[-1])\n",
    "                    matrix[topics[cur_topic]][topics[link[6:]]] = 1         \n",
    "    return matrix"
   ]
  },
  {
   "cell_type": "code",
   "execution_count": 11,
   "metadata": {
    "scrolled": true
   },
   "outputs": [],
   "source": [
    "def get_matrix():\n",
    "    matrix = np.zeros((len(os.listdir(path)), len(os.listdir(path))))\n",
    "    for file in tqdm.tqdm_notebook(os.listdir(path)):\n",
    "        with open(f\"raw/{file}\", encoding='utf-8') as f:\n",
    "            cur_topic = file[:-5]\n",
    "            bs = BeautifulSoup(f.read(), \"html.parser\")\n",
    "            all_a = bs.find_all(\"a\")\n",
    "            for link in all_a:\n",
    "                if 'href' in link.attrs:\n",
    "                    href = urllib.parse.unquote(link['href'])\n",
    "                    if href.startswith(\"/wiki/\") and href[6:] in topics:\n",
    "                        matrix[topics[cur_topic]][topics[href[6:]]] = 1\n",
    "    return matrix"
   ]
  },
  {
   "cell_type": "code",
   "execution_count": 12,
   "metadata": {},
   "outputs": [],
   "source": [
    "def process(matrix):\n",
    "    for i in matrix:\n",
    "        for j in range(len(i)):\n",
    "            if i[j] == 0:\n",
    "                i[j] = 0.001\n",
    "    row_sums = matrix.sum(axis=1)\n",
    "    norm_matrix = matrix / row_sums[:, np.newaxis]\n",
    "    vector = np.array([0.2]*len(os.listdir(path)))\n",
    "    for _ in range(100):\n",
    "        vector = norm_matrix.transpose().dot(vector)\n",
    "    # np.take(vector, [1, 2])\n",
    "    rank = {}\n",
    "    for i, value in enumerate(vector):\n",
    "        rank[i] = value\n",
    "    return rank"
   ]
  },
  {
   "cell_type": "code",
   "execution_count": 13,
   "metadata": {},
   "outputs": [],
   "source": [
    "def page_rank(rank, n=10, word=None):\n",
    "    if word is not None:\n",
    "        new_topics = [ind for topic, ind in topics.items() if word.lower() in topic.lower()]\n",
    "    if word is not None:\n",
    "        new_rank = {}\n",
    "        for ind in new_topics:\n",
    "            new_rank[ind] = rank[ind]\n",
    "    else:\n",
    "        new_rank = rank.copy()\n",
    "    items = sorted(new_rank.items(), key=lambda t: t[1])[::-1][:n]\n",
    "    for index, value in items:\n",
    "        print(f\"{os.listdir(path)[index][:-5]}: {value}\")"
   ]
  },
  {
   "cell_type": "code",
   "execution_count": 24,
   "metadata": {},
   "outputs": [],
   "source": [
    "def HITS(matrix, word):\n",
    "    page_with_word = []\n",
    "\n",
    "    for i, name in enumerate(files_name):\n",
    "        if word.lower() in name.lower():\n",
    "            page_with_word.append(i)\n",
    "\n",
    "    base_set = page_with_word.copy()\n",
    "    for i in page_with_word:\n",
    "        for j in range(0, len(files_name)):\n",
    "            if matrix[i][j] > 0:\n",
    "                base_set.append(j)\n",
    "\n",
    "        for j in range(0, len(files_name)):\n",
    "            if matrix[j][i] > 0:\n",
    "                base_set.append(j)\n",
    "\n",
    "    base_set = list(set(base_set))\n",
    "    a = np.zeros((len(base_set), len(base_set)))\n",
    "    for i in range(0, len(base_set)):\n",
    "        for j in range(0, len(base_set)):\n",
    "            a[i, j] = matrix[base_set[i]][base_set[j]]\n",
    "\n",
    "    at = a.transpose()\n",
    "\n",
    "    aat = a.dot(at)\n",
    "    ata = at.dot(a)\n",
    "\n",
    "    hub = np.abs(np.linalg.eigh(aat)[1]).sum(axis=1)\n",
    "    auth = np.abs(np.linalg.eigh(ata)[1]).sum(axis=1)\n",
    "\n",
    "    print(\"\\n hub \\n\")\n",
    "\n",
    "    dhub = {}\n",
    "\n",
    "    for i, value in enumerate(hub):\n",
    "        dhub[i] = value\n",
    "    n = 10\n",
    "    dbase = {}\n",
    "    for i, value in enumerate(base_set):\n",
    "        dbase[value] = i\n",
    "\n",
    "    new_dhub = {}\n",
    "    for i in page_with_word:\n",
    "        new_dhub[dbase[i]] = dhub[dbase[i]]\n",
    "\n",
    "    items = sorted(new_dhub.items(), key=lambda t: t[1])[::-1][:n]\n",
    "    for index, value in items:\n",
    "        print(files_name[base_set[index]] + ' ' + str(value))\n",
    "\n",
    "    print(\"\\n auth \\n\")\n",
    "\n",
    "\n",
    "    dauth = {}\n",
    "\n",
    "    for i, value in enumerate(auth):\n",
    "        dauth[i] = value\n",
    "\n",
    "    new_dauth = {}\n",
    "    for i in page_with_word:\n",
    "        new_dauth[dbase[i]] = dauth[dbase[i]]\n",
    "\n",
    "    items = sorted(new_dauth.items(), key=lambda t: t[1])[::-1][:n]\n",
    "    for index, value in items:\n",
    "        print(files_name[base_set[index]] + ' ' + str(value))"
   ]
  },
  {
   "cell_type": "code",
   "execution_count": 37,
   "metadata": {},
   "outputs": [
    {
     "data": {
      "application/vnd.jupyter.widget-view+json": {
       "model_id": "61884f43667e4010909becd5ea4621fc",
       "version_major": 2,
       "version_minor": 0
      },
      "text/plain": [
       "HBox(children=(IntProgress(value=0, max=2379), HTML(value='')))"
      ]
     },
     "metadata": {},
     "output_type": "display_data"
    },
    {
     "name": "stdout",
     "output_type": "stream",
     "text": [
      "\n"
     ]
    }
   ],
   "source": [
    "matrix = get_matrix()"
   ]
  },
  {
   "cell_type": "code",
   "execution_count": 38,
   "metadata": {},
   "outputs": [],
   "source": [
    "rank = process(matrix)"
   ]
  },
  {
   "cell_type": "code",
   "execution_count": 39,
   "metadata": {},
   "outputs": [
    {
     "name": "stdout",
     "output_type": "stream",
     "text": [
      "Английский_язык: 6.710244106349573\n",
      "США: 4.66682684199059\n",
      "Франция: 3.891332065960388\n",
      "Великобритания: 3.755379111713333\n",
      "Германия: 3.0454025051563165\n",
      "Соединённые_Штаты_Америки: 2.982485368742181\n",
      "Италия: 2.41149748041042\n",
      "СССР: 2.385908911034225\n",
      "Викисклад: 2.3083234328050564\n",
      "Латинский_язык: 2.3054123310637404\n"
     ]
    }
   ],
   "source": [
    "page_rank(rank=rank)"
   ]
  },
  {
   "cell_type": "code",
   "execution_count": 40,
   "metadata": {},
   "outputs": [
    {
     "name": "stdout",
     "output_type": "stream",
     "text": [
      "Армстронг,_Луи: 0.21913073924573098\n",
      "Армстронг,_Нил_Олден: 0.0820416765113164\n",
      "Армстронг,_Нил: 0.07772736651558804\n",
      "Армстронг,_Билли_Джо: 0.06033081219855844\n",
      "Армстронг,_Алан: 0.05467384689837618\n",
      "Армстронг_(фамилия): 0.054339929130478845\n",
      "Армстронг,_Эдвин: 0.04872429424522622\n",
      "Армстронг,_Лэнс: 0.04765582655907486\n",
      "Билли_Джо_Армстронг: 0.04497463456555457\n",
      "Армстронг,_Крэйг: 0.03901933675387288\n"
     ]
    }
   ],
   "source": [
    "page_rank(rank=rank, word='армстронг')"
   ]
  },
  {
   "cell_type": "code",
   "execution_count": null,
   "metadata": {},
   "outputs": [],
   "source": []
  },
  {
   "cell_type": "code",
   "execution_count": 25,
   "metadata": {},
   "outputs": [
    {
     "name": "stdout",
     "output_type": "stream",
     "text": [
      "\n",
      "hub\n",
      "\n",
      "Армстронг,_Генри_(боксёр) 29.42320429693974\n",
      "Армстронг,_Джо 28.773862717012392\n",
      "Армстронг,_Чарльз 27.98399650256239\n",
      "Армстронг,_Джеймс_(борец) 27.30465434018304\n",
      "Армстронг,_Джеймс 27.10400738542007\n",
      "Армстронг,_Уильям_Лестер 27.080429851326862\n",
      "Армстронг_(лунный_кратер) 26.891574277992305\n",
      "Армстронг,_Дженни 26.859611655210056\n",
      "Армстронг,_Уильям_Джордж 26.48752477383553\n",
      "Армстронг,_Джонас 26.30655190752678\n",
      "\n",
      " auth \n",
      "\n",
      "Армстронг_(лунный_кратер) 30.212507467207907\n",
      "Армстронг,_Кёрли 29.945353033123723\n",
      "Армстронг,_Скотт_(баскетболист) 29.400616317359717\n",
      "Армстронг 28.71749898795197\n",
      "Армстронг,_Нил_Олден 28.70426439274828\n",
      "Клан_Армстронг 28.197415045072596\n",
      "Армстронг,_Даррелл 27.882247564968267\n",
      "Армстронг,_Джерри 27.84761242731537\n",
      "Билли_Джо_Армстронг 27.45050772426282\n",
      "Армстронг,_Билли_Джо 27.27720388130315\n"
     ]
    }
   ],
   "source": [
    "HITS(matrix, 'армстронг')"
   ]
  },
  {
   "cell_type": "code",
   "execution_count": null,
   "metadata": {},
   "outputs": [],
   "source": []
  }
 ],
 "metadata": {
  "kernelspec": {
   "display_name": "Python 3",
   "language": "python",
   "name": "python3"
  },
  "language_info": {
   "codemirror_mode": {
    "name": "ipython",
    "version": 3
   },
   "file_extension": ".py",
   "mimetype": "text/x-python",
   "name": "python",
   "nbconvert_exporter": "python",
   "pygments_lexer": "ipython3",
   "version": "3.7.3"
  }
 },
 "nbformat": 4,
 "nbformat_minor": 2
}
